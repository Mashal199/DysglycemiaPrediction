{
 "cells": [
  {
   "metadata": {},
   "cell_type": "markdown",
   "source": [
    "# Logistic Regression (Tuned and Regularised)\n",
    "Developed by Zion Knight (s3906411)"
   ],
   "id": "f421448bdbf1b56c"
  },
  {
   "metadata": {
    "ExecuteTime": {
     "end_time": "2025-06-05T15:49:59.648621Z",
     "start_time": "2025-06-05T15:49:58.857310Z"
    }
   },
   "cell_type": "code",
   "source": [
    "import pandas as pd\n",
    "import numpy as np\n",
    "import matplotlib.pyplot as plt\n",
    "import seaborn as sns\n",
    "from sklearn.model_selection import train_test_split\n",
    "from sklearn.linear_model import LogisticRegression\n",
    "from sklearn.metrics import confusion_matrix, classification_report, roc_auc_score\n",
    "from sklearn.preprocessing import StandardScaler, MinMaxScaler\n",
    "from sklearn.model_selection import GridSearchCV\n",
    "from sklearn.pipeline import Pipeline\n",
    "from sklearn.decomposition import PCA\n",
    "from sklearn.preprocessing import StandardScaler\n",
    "\n",
    "dataFile = 'data/chartEventsPred.csv'"
   ],
   "id": "eb8d7245afb17acd",
   "outputs": [],
   "execution_count": 1
  },
  {
   "metadata": {},
   "cell_type": "markdown",
   "source": "Read in the data",
   "id": "a58a808463033392"
  },
  {
   "metadata": {
    "ExecuteTime": {
     "end_time": "2025-06-05T15:50:13.755794Z",
     "start_time": "2025-06-05T15:50:11.623831Z"
    }
   },
   "cell_type": "code",
   "source": [
    "data = pd.read_csv(dataFile)\n",
    "data.head()"
   ],
   "id": "30c45e28c03877ea",
   "outputs": [
    {
     "data": {
      "text/plain": [
       "   subject_id   label            charttime  glucose  next_glucose  mean_last3  \\\n",
       "0    10000690  normal  2150-11-04 03:03:00     84.0         117.0   80.500000   \n",
       "1    10000690  normal  2150-11-04 10:00:00    117.0         120.0   92.666667   \n",
       "2    10000690  normal  2150-11-04 17:54:00    120.0         107.0  107.000000   \n",
       "3    10000690  normal  2150-11-05 05:36:00    107.0          97.0  114.666667   \n",
       "4    10001217  normal  2157-12-19 22:00:00    145.0         113.0  129.000000   \n",
       "\n",
       "   std_last3  trend   BUN  Creatinine  Diastolic Blood Pressure  Heart Rate  \\\n",
       "0   4.949747    7.0  20.2        0.82                 60.361702   84.072917   \n",
       "1  21.361960   33.0  20.2        0.82                 60.361702   84.072917   \n",
       "2  19.974984    3.0  20.2        0.82                 60.361702   84.072917   \n",
       "3   6.806859  -13.0  20.2        0.82                 60.361702   84.072917   \n",
       "4  22.627417   32.0   9.5        0.45                 77.720000   86.711538   \n",
       "\n",
       "   Hemoglobin  Mean Blood Pressure  O2 Saturation  Respiratory Rate  Sodium  \\\n",
       "0      10.175            74.936170      95.702128         22.557895   135.2   \n",
       "1      10.175            74.936170      95.702128         22.557895   135.2   \n",
       "2      10.175            74.936170      95.702128         22.557895   135.2   \n",
       "3      10.175            74.936170      95.702128         22.557895   135.2   \n",
       "4      11.750            88.673469      95.019231         19.038462   138.5   \n",
       "\n",
       "   Systolic Blood Pressure    WBC  \n",
       "0               122.893617   6.35  \n",
       "1               122.893617   6.35  \n",
       "2               122.893617   6.35  \n",
       "3               122.893617   6.35  \n",
       "4               126.900000  13.70  "
      ],
      "text/html": [
       "<div>\n",
       "<style scoped>\n",
       "    .dataframe tbody tr th:only-of-type {\n",
       "        vertical-align: middle;\n",
       "    }\n",
       "\n",
       "    .dataframe tbody tr th {\n",
       "        vertical-align: top;\n",
       "    }\n",
       "\n",
       "    .dataframe thead th {\n",
       "        text-align: right;\n",
       "    }\n",
       "</style>\n",
       "<table border=\"1\" class=\"dataframe\">\n",
       "  <thead>\n",
       "    <tr style=\"text-align: right;\">\n",
       "      <th></th>\n",
       "      <th>subject_id</th>\n",
       "      <th>label</th>\n",
       "      <th>charttime</th>\n",
       "      <th>glucose</th>\n",
       "      <th>next_glucose</th>\n",
       "      <th>mean_last3</th>\n",
       "      <th>std_last3</th>\n",
       "      <th>trend</th>\n",
       "      <th>BUN</th>\n",
       "      <th>Creatinine</th>\n",
       "      <th>Diastolic Blood Pressure</th>\n",
       "      <th>Heart Rate</th>\n",
       "      <th>Hemoglobin</th>\n",
       "      <th>Mean Blood Pressure</th>\n",
       "      <th>O2 Saturation</th>\n",
       "      <th>Respiratory Rate</th>\n",
       "      <th>Sodium</th>\n",
       "      <th>Systolic Blood Pressure</th>\n",
       "      <th>WBC</th>\n",
       "    </tr>\n",
       "  </thead>\n",
       "  <tbody>\n",
       "    <tr>\n",
       "      <th>0</th>\n",
       "      <td>10000690</td>\n",
       "      <td>normal</td>\n",
       "      <td>2150-11-04 03:03:00</td>\n",
       "      <td>84.0</td>\n",
       "      <td>117.0</td>\n",
       "      <td>80.500000</td>\n",
       "      <td>4.949747</td>\n",
       "      <td>7.0</td>\n",
       "      <td>20.2</td>\n",
       "      <td>0.82</td>\n",
       "      <td>60.361702</td>\n",
       "      <td>84.072917</td>\n",
       "      <td>10.175</td>\n",
       "      <td>74.936170</td>\n",
       "      <td>95.702128</td>\n",
       "      <td>22.557895</td>\n",
       "      <td>135.2</td>\n",
       "      <td>122.893617</td>\n",
       "      <td>6.35</td>\n",
       "    </tr>\n",
       "    <tr>\n",
       "      <th>1</th>\n",
       "      <td>10000690</td>\n",
       "      <td>normal</td>\n",
       "      <td>2150-11-04 10:00:00</td>\n",
       "      <td>117.0</td>\n",
       "      <td>120.0</td>\n",
       "      <td>92.666667</td>\n",
       "      <td>21.361960</td>\n",
       "      <td>33.0</td>\n",
       "      <td>20.2</td>\n",
       "      <td>0.82</td>\n",
       "      <td>60.361702</td>\n",
       "      <td>84.072917</td>\n",
       "      <td>10.175</td>\n",
       "      <td>74.936170</td>\n",
       "      <td>95.702128</td>\n",
       "      <td>22.557895</td>\n",
       "      <td>135.2</td>\n",
       "      <td>122.893617</td>\n",
       "      <td>6.35</td>\n",
       "    </tr>\n",
       "    <tr>\n",
       "      <th>2</th>\n",
       "      <td>10000690</td>\n",
       "      <td>normal</td>\n",
       "      <td>2150-11-04 17:54:00</td>\n",
       "      <td>120.0</td>\n",
       "      <td>107.0</td>\n",
       "      <td>107.000000</td>\n",
       "      <td>19.974984</td>\n",
       "      <td>3.0</td>\n",
       "      <td>20.2</td>\n",
       "      <td>0.82</td>\n",
       "      <td>60.361702</td>\n",
       "      <td>84.072917</td>\n",
       "      <td>10.175</td>\n",
       "      <td>74.936170</td>\n",
       "      <td>95.702128</td>\n",
       "      <td>22.557895</td>\n",
       "      <td>135.2</td>\n",
       "      <td>122.893617</td>\n",
       "      <td>6.35</td>\n",
       "    </tr>\n",
       "    <tr>\n",
       "      <th>3</th>\n",
       "      <td>10000690</td>\n",
       "      <td>normal</td>\n",
       "      <td>2150-11-05 05:36:00</td>\n",
       "      <td>107.0</td>\n",
       "      <td>97.0</td>\n",
       "      <td>114.666667</td>\n",
       "      <td>6.806859</td>\n",
       "      <td>-13.0</td>\n",
       "      <td>20.2</td>\n",
       "      <td>0.82</td>\n",
       "      <td>60.361702</td>\n",
       "      <td>84.072917</td>\n",
       "      <td>10.175</td>\n",
       "      <td>74.936170</td>\n",
       "      <td>95.702128</td>\n",
       "      <td>22.557895</td>\n",
       "      <td>135.2</td>\n",
       "      <td>122.893617</td>\n",
       "      <td>6.35</td>\n",
       "    </tr>\n",
       "    <tr>\n",
       "      <th>4</th>\n",
       "      <td>10001217</td>\n",
       "      <td>normal</td>\n",
       "      <td>2157-12-19 22:00:00</td>\n",
       "      <td>145.0</td>\n",
       "      <td>113.0</td>\n",
       "      <td>129.000000</td>\n",
       "      <td>22.627417</td>\n",
       "      <td>32.0</td>\n",
       "      <td>9.5</td>\n",
       "      <td>0.45</td>\n",
       "      <td>77.720000</td>\n",
       "      <td>86.711538</td>\n",
       "      <td>11.750</td>\n",
       "      <td>88.673469</td>\n",
       "      <td>95.019231</td>\n",
       "      <td>19.038462</td>\n",
       "      <td>138.5</td>\n",
       "      <td>126.900000</td>\n",
       "      <td>13.70</td>\n",
       "    </tr>\n",
       "  </tbody>\n",
       "</table>\n",
       "</div>"
      ]
     },
     "execution_count": 2,
     "metadata": {},
     "output_type": "execute_result"
    }
   ],
   "execution_count": 2
  },
  {
   "metadata": {
    "ExecuteTime": {
     "end_time": "2025-06-05T15:50:16.555666Z",
     "start_time": "2025-06-05T15:50:16.384627Z"
    }
   },
   "cell_type": "code",
   "source": "data.isnull().sum()",
   "id": "565ee714fbee9500",
   "outputs": [
    {
     "data": {
      "text/plain": [
       "subject_id                  0\n",
       "label                       0\n",
       "charttime                   0\n",
       "glucose                     0\n",
       "next_glucose                0\n",
       "mean_last3                  0\n",
       "std_last3                   0\n",
       "trend                       0\n",
       "BUN                         0\n",
       "Creatinine                  0\n",
       "Diastolic Blood Pressure    0\n",
       "Heart Rate                  0\n",
       "Hemoglobin                  0\n",
       "Mean Blood Pressure         0\n",
       "O2 Saturation               0\n",
       "Respiratory Rate            0\n",
       "Sodium                      0\n",
       "Systolic Blood Pressure     0\n",
       "WBC                         0\n",
       "dtype: int64"
      ]
     },
     "execution_count": 3,
     "metadata": {},
     "output_type": "execute_result"
    }
   ],
   "execution_count": 3
  },
  {
   "metadata": {
    "ExecuteTime": {
     "end_time": "2025-06-05T15:50:18.687867Z",
     "start_time": "2025-06-05T15:50:18.674864Z"
    }
   },
   "cell_type": "code",
   "source": "data.shape",
   "id": "edbb1e3f036b7fc7",
   "outputs": [
    {
     "data": {
      "text/plain": [
       "(1083775, 19)"
      ]
     },
     "execution_count": 4,
     "metadata": {},
     "output_type": "execute_result"
    }
   ],
   "execution_count": 4
  },
  {
   "metadata": {},
   "cell_type": "markdown",
   "source": "Clean up missing values and deidentify data",
   "id": "3cb303ed2cbc8bbc"
  },
  {
   "metadata": {
    "ExecuteTime": {
     "end_time": "2025-06-05T15:50:21.025470Z",
     "start_time": "2025-06-05T15:50:20.621287Z"
    }
   },
   "cell_type": "code",
   "source": [
    "data = data.dropna()\n",
    "data.isnull().sum()\n",
    "data.drop(['subject_id', 'charttime', 'next_glucose'], axis=1, inplace=True)\n",
    "data.shape"
   ],
   "id": "3b38b4ea20cdefaf",
   "outputs": [
    {
     "data": {
      "text/plain": [
       "(1083775, 16)"
      ]
     },
     "execution_count": 5,
     "metadata": {},
     "output_type": "execute_result"
    }
   ],
   "execution_count": 5
  },
  {
   "metadata": {},
   "cell_type": "markdown",
   "source": "Data exploration",
   "id": "55672b8d529aa45b"
  },
  {
   "metadata": {
    "ExecuteTime": {
     "end_time": "2025-06-05T15:50:26.825587Z",
     "start_time": "2025-06-05T15:50:26.586453Z"
    }
   },
   "cell_type": "code",
   "source": "data.describe()",
   "id": "a5f16bf0d8571766",
   "outputs": [
    {
     "data": {
      "text/plain": [
       "            glucose    mean_last3     std_last3         trend           BUN  \\\n",
       "count  1.083775e+06  1.083775e+06  1.083775e+06  1.083775e+06  1.083775e+06   \n",
       "mean   1.456994e+02  1.461485e+02  2.212111e+01 -4.253660e-01  2.492541e+01   \n",
       "std    5.622706e+01  5.063781e+01  2.233884e+01  4.171028e+01  1.262242e+01   \n",
       "min    2.000000e+01  2.133333e+01  0.000000e+00 -8.800000e+02  1.000000e+00   \n",
       "25%    1.100000e+02  1.136667e+02  9.018500e+00 -1.700000e+01  1.500000e+01   \n",
       "50%    1.330000e+02  1.343333e+02  1.619671e+01 -1.000000e+00  2.200000e+01   \n",
       "75%    1.660000e+02  1.645000e+02  2.779089e+01  1.600000e+01  3.292742e+01   \n",
       "max    1.000000e+03  8.853333e+02  5.847773e+02  9.070000e+02  5.966667e+01   \n",
       "\n",
       "         Creatinine  Diastolic Blood Pressure    Heart Rate    Hemoglobin  \\\n",
       "count  1.083775e+06              1.083775e+06  1.083775e+06  1.083775e+06   \n",
       "mean   1.099055e+00              6.238744e+01  8.547202e+01  9.857086e+00   \n",
       "std    4.937445e-01              8.920569e+00  1.153101e+01  1.522535e+00   \n",
       "min    7.619048e-02              3.643478e+01  4.621212e+01  4.720000e+00   \n",
       "25%    7.250000e-01              5.617621e+01  7.735294e+01  8.725926e+00   \n",
       "50%    9.745455e-01              6.175000e+01  8.500662e+01  9.570000e+00   \n",
       "75%    1.388889e+00              6.798837e+01  9.317751e+01  1.071538e+01   \n",
       "max    2.508333e+00              9.203125e+01  1.209810e+02  1.640000e+01   \n",
       "\n",
       "       Mean Blood Pressure  O2 Saturation  Respiratory Rate        Sodium  \\\n",
       "count         1.083775e+06   1.083775e+06      1.083775e+06  1.083775e+06   \n",
       "mean          7.858873e+01   9.692705e+01      1.966063e+01  1.388872e+02   \n",
       "std           8.437984e+00   1.344057e+00      2.909485e+00  3.464397e+00   \n",
       "min           5.300000e+01   9.231944e+01      1.027551e+01  1.294000e+02   \n",
       "25%           7.247887e+01   9.605317e+01      1.754930e+01  1.366098e+02   \n",
       "50%           7.754713e+01   9.703426e+01      1.950000e+01  1.387500e+02   \n",
       "75%           8.376786e+01   9.789474e+01      2.162791e+01  1.411818e+02   \n",
       "max           1.068276e+02   1.004145e+02      2.769565e+01  1.480909e+02   \n",
       "\n",
       "       Systolic Blood Pressure           WBC  \n",
       "count             1.083775e+06  1.083775e+06  \n",
       "mean              1.184471e+02  1.382881e+01  \n",
       "std               1.276278e+01  5.487979e+00  \n",
       "min               7.933333e+01  1.000000e-01  \n",
       "25%               1.093621e+02  9.920000e+00  \n",
       "50%               1.172909e+02  1.288000e+01  \n",
       "75%               1.266407e+02  1.672857e+01  \n",
       "max               1.596552e+02  3.035556e+01  "
      ],
      "text/html": [
       "<div>\n",
       "<style scoped>\n",
       "    .dataframe tbody tr th:only-of-type {\n",
       "        vertical-align: middle;\n",
       "    }\n",
       "\n",
       "    .dataframe tbody tr th {\n",
       "        vertical-align: top;\n",
       "    }\n",
       "\n",
       "    .dataframe thead th {\n",
       "        text-align: right;\n",
       "    }\n",
       "</style>\n",
       "<table border=\"1\" class=\"dataframe\">\n",
       "  <thead>\n",
       "    <tr style=\"text-align: right;\">\n",
       "      <th></th>\n",
       "      <th>glucose</th>\n",
       "      <th>mean_last3</th>\n",
       "      <th>std_last3</th>\n",
       "      <th>trend</th>\n",
       "      <th>BUN</th>\n",
       "      <th>Creatinine</th>\n",
       "      <th>Diastolic Blood Pressure</th>\n",
       "      <th>Heart Rate</th>\n",
       "      <th>Hemoglobin</th>\n",
       "      <th>Mean Blood Pressure</th>\n",
       "      <th>O2 Saturation</th>\n",
       "      <th>Respiratory Rate</th>\n",
       "      <th>Sodium</th>\n",
       "      <th>Systolic Blood Pressure</th>\n",
       "      <th>WBC</th>\n",
       "    </tr>\n",
       "  </thead>\n",
       "  <tbody>\n",
       "    <tr>\n",
       "      <th>count</th>\n",
       "      <td>1.083775e+06</td>\n",
       "      <td>1.083775e+06</td>\n",
       "      <td>1.083775e+06</td>\n",
       "      <td>1.083775e+06</td>\n",
       "      <td>1.083775e+06</td>\n",
       "      <td>1.083775e+06</td>\n",
       "      <td>1.083775e+06</td>\n",
       "      <td>1.083775e+06</td>\n",
       "      <td>1.083775e+06</td>\n",
       "      <td>1.083775e+06</td>\n",
       "      <td>1.083775e+06</td>\n",
       "      <td>1.083775e+06</td>\n",
       "      <td>1.083775e+06</td>\n",
       "      <td>1.083775e+06</td>\n",
       "      <td>1.083775e+06</td>\n",
       "    </tr>\n",
       "    <tr>\n",
       "      <th>mean</th>\n",
       "      <td>1.456994e+02</td>\n",
       "      <td>1.461485e+02</td>\n",
       "      <td>2.212111e+01</td>\n",
       "      <td>-4.253660e-01</td>\n",
       "      <td>2.492541e+01</td>\n",
       "      <td>1.099055e+00</td>\n",
       "      <td>6.238744e+01</td>\n",
       "      <td>8.547202e+01</td>\n",
       "      <td>9.857086e+00</td>\n",
       "      <td>7.858873e+01</td>\n",
       "      <td>9.692705e+01</td>\n",
       "      <td>1.966063e+01</td>\n",
       "      <td>1.388872e+02</td>\n",
       "      <td>1.184471e+02</td>\n",
       "      <td>1.382881e+01</td>\n",
       "    </tr>\n",
       "    <tr>\n",
       "      <th>std</th>\n",
       "      <td>5.622706e+01</td>\n",
       "      <td>5.063781e+01</td>\n",
       "      <td>2.233884e+01</td>\n",
       "      <td>4.171028e+01</td>\n",
       "      <td>1.262242e+01</td>\n",
       "      <td>4.937445e-01</td>\n",
       "      <td>8.920569e+00</td>\n",
       "      <td>1.153101e+01</td>\n",
       "      <td>1.522535e+00</td>\n",
       "      <td>8.437984e+00</td>\n",
       "      <td>1.344057e+00</td>\n",
       "      <td>2.909485e+00</td>\n",
       "      <td>3.464397e+00</td>\n",
       "      <td>1.276278e+01</td>\n",
       "      <td>5.487979e+00</td>\n",
       "    </tr>\n",
       "    <tr>\n",
       "      <th>min</th>\n",
       "      <td>2.000000e+01</td>\n",
       "      <td>2.133333e+01</td>\n",
       "      <td>0.000000e+00</td>\n",
       "      <td>-8.800000e+02</td>\n",
       "      <td>1.000000e+00</td>\n",
       "      <td>7.619048e-02</td>\n",
       "      <td>3.643478e+01</td>\n",
       "      <td>4.621212e+01</td>\n",
       "      <td>4.720000e+00</td>\n",
       "      <td>5.300000e+01</td>\n",
       "      <td>9.231944e+01</td>\n",
       "      <td>1.027551e+01</td>\n",
       "      <td>1.294000e+02</td>\n",
       "      <td>7.933333e+01</td>\n",
       "      <td>1.000000e-01</td>\n",
       "    </tr>\n",
       "    <tr>\n",
       "      <th>25%</th>\n",
       "      <td>1.100000e+02</td>\n",
       "      <td>1.136667e+02</td>\n",
       "      <td>9.018500e+00</td>\n",
       "      <td>-1.700000e+01</td>\n",
       "      <td>1.500000e+01</td>\n",
       "      <td>7.250000e-01</td>\n",
       "      <td>5.617621e+01</td>\n",
       "      <td>7.735294e+01</td>\n",
       "      <td>8.725926e+00</td>\n",
       "      <td>7.247887e+01</td>\n",
       "      <td>9.605317e+01</td>\n",
       "      <td>1.754930e+01</td>\n",
       "      <td>1.366098e+02</td>\n",
       "      <td>1.093621e+02</td>\n",
       "      <td>9.920000e+00</td>\n",
       "    </tr>\n",
       "    <tr>\n",
       "      <th>50%</th>\n",
       "      <td>1.330000e+02</td>\n",
       "      <td>1.343333e+02</td>\n",
       "      <td>1.619671e+01</td>\n",
       "      <td>-1.000000e+00</td>\n",
       "      <td>2.200000e+01</td>\n",
       "      <td>9.745455e-01</td>\n",
       "      <td>6.175000e+01</td>\n",
       "      <td>8.500662e+01</td>\n",
       "      <td>9.570000e+00</td>\n",
       "      <td>7.754713e+01</td>\n",
       "      <td>9.703426e+01</td>\n",
       "      <td>1.950000e+01</td>\n",
       "      <td>1.387500e+02</td>\n",
       "      <td>1.172909e+02</td>\n",
       "      <td>1.288000e+01</td>\n",
       "    </tr>\n",
       "    <tr>\n",
       "      <th>75%</th>\n",
       "      <td>1.660000e+02</td>\n",
       "      <td>1.645000e+02</td>\n",
       "      <td>2.779089e+01</td>\n",
       "      <td>1.600000e+01</td>\n",
       "      <td>3.292742e+01</td>\n",
       "      <td>1.388889e+00</td>\n",
       "      <td>6.798837e+01</td>\n",
       "      <td>9.317751e+01</td>\n",
       "      <td>1.071538e+01</td>\n",
       "      <td>8.376786e+01</td>\n",
       "      <td>9.789474e+01</td>\n",
       "      <td>2.162791e+01</td>\n",
       "      <td>1.411818e+02</td>\n",
       "      <td>1.266407e+02</td>\n",
       "      <td>1.672857e+01</td>\n",
       "    </tr>\n",
       "    <tr>\n",
       "      <th>max</th>\n",
       "      <td>1.000000e+03</td>\n",
       "      <td>8.853333e+02</td>\n",
       "      <td>5.847773e+02</td>\n",
       "      <td>9.070000e+02</td>\n",
       "      <td>5.966667e+01</td>\n",
       "      <td>2.508333e+00</td>\n",
       "      <td>9.203125e+01</td>\n",
       "      <td>1.209810e+02</td>\n",
       "      <td>1.640000e+01</td>\n",
       "      <td>1.068276e+02</td>\n",
       "      <td>1.004145e+02</td>\n",
       "      <td>2.769565e+01</td>\n",
       "      <td>1.480909e+02</td>\n",
       "      <td>1.596552e+02</td>\n",
       "      <td>3.035556e+01</td>\n",
       "    </tr>\n",
       "  </tbody>\n",
       "</table>\n",
       "</div>"
      ]
     },
     "execution_count": 6,
     "metadata": {},
     "output_type": "execute_result"
    }
   ],
   "execution_count": 6
  },
  {
   "metadata": {
    "ExecuteTime": {
     "end_time": "2025-06-05T15:50:29.702511Z",
     "start_time": "2025-06-05T15:50:28.584259Z"
    }
   },
   "cell_type": "code",
   "source": [
    "plt.figure(figsize=(20, 15))\n",
    "sns.boxplot(data=data)\n",
    "plt.show()"
   ],
   "id": "cb717d4e917ac7f",
   "outputs": [
    {
     "data": {
      "text/plain": [
       "<Figure size 1440x1080 with 1 Axes>"
      ],
      "image/png": "[encoded data removed]"
     },
     "metadata": {},
     "output_type": "display_data"
    }
   ],
   "execution_count": 7
  },
  {
   "metadata": {},
   "cell_type": "markdown",
   "source": "Split tagert and predicting values",
   "id": "484f3c2b31c3e0e1"
  },
  {
   "metadata": {
    "ExecuteTime": {
     "end_time": "2025-06-05T15:50:33.690850Z",
     "start_time": "2025-06-05T15:50:33.646840Z"
    }
   },
   "cell_type": "code",
   "source": [
    "y = data['label']\n",
    "x = data.drop(['label'], axis=1)"
   ],
   "id": "7685044bd46922d2",
   "outputs": [],
   "execution_count": 8
  },
  {
   "metadata": {},
   "cell_type": "markdown",
   "source": "Scale data",
   "id": "1e473f6f99b993ce"
  },
  {
   "metadata": {
    "ExecuteTime": {
     "end_time": "2025-06-05T15:50:35.469957Z",
     "start_time": "2025-06-05T15:50:35.273912Z"
    }
   },
   "cell_type": "code",
   "source": [
    "scaler = StandardScaler()\n",
    "scaler.fit(x)\n",
    "x_scaled = scaler.transform(x)"
   ],
   "id": "1b2288f1b4bd090a",
   "outputs": [],
   "execution_count": 9
  },
  {
   "metadata": {
    "ExecuteTime": {
     "end_time": "2025-06-05T15:50:38.036958Z",
     "start_time": "2025-06-05T15:50:36.975406Z"
    }
   },
   "cell_type": "code",
   "source": [
    "plt.figure(figsize=(20, 15))\n",
    "sns.boxplot(data=x)\n",
    "plt.show()"
   ],
   "id": "604058db514d1825",
   "outputs": [
    {
     "data": {
      "text/plain": [
       "<Figure size 1440x1080 with 1 Axes>"
      ],
      "image/png": "[encoded data removed]"
     },
     "metadata": {},
     "output_type": "display_data"
    }
   ],
   "execution_count": 10
  },
  {
   "metadata": {},
   "cell_type": "markdown",
   "source": "Split training and testing sets",
   "id": "25ff2c03f4a9eabd"
  },
  {
   "metadata": {
    "ExecuteTime": {
     "end_time": "2025-06-05T15:50:41.879472Z",
     "start_time": "2025-06-05T15:50:41.676316Z"
    }
   },
   "cell_type": "code",
   "source": "x_train, x_test, y_train, y_test = train_test_split(x_scaled, y, test_size=0.2, random_state=1)",
   "id": "67315ead515dac89",
   "outputs": [],
   "execution_count": 11
  },
  {
   "metadata": {},
   "cell_type": "markdown",
   "source": "Tune the model using validation data (cross-fold)",
   "id": "1a807f949124b2a9"
  },
  {
   "metadata": {
    "ExecuteTime": {
     "end_time": "2025-06-05T15:50:43.883370Z",
     "start_time": "2025-06-05T15:50:43.866522Z"
    }
   },
   "cell_type": "code",
   "source": [
    "log_reg = LogisticRegression(\n",
    "    penalty='l2',\n",
    "    solver='lbfgs',\n",
    "    multi_class='multinomial',\n",
    "    max_iter=1000\n",
    ")"
   ],
   "id": "256ff4f6a86f10b7",
   "outputs": [],
   "execution_count": 12
  },
  {
   "metadata": {
    "ExecuteTime": {
     "end_time": "2025-06-05T16:03:32.826324Z",
     "start_time": "2025-06-05T15:50:45.399527Z"
    }
   },
   "cell_type": "code",
   "source": [
    "param_grid = {\n",
    "    'C': np.logspace(-2, 2, 10),\n",
    "}\n",
    "\n",
    "grid_search = GridSearchCV(log_reg, param_grid, cv=5, scoring='accuracy')\n",
    "grid_search.fit(x_train, y_train)"
   ],
   "id": "97f24e7f7d0f1364",
   "outputs": [
    {
     "data": {
      "text/plain": [
       "GridSearchCV(cv=5,\n",
       "             estimator=LogisticRegression(max_iter=1000,\n",
       "                                          multi_class='multinomial'),\n",
       "             param_grid={'C': array([1.00000000e-02, 2.78255940e-02, 7.74263683e-02, 2.15443469e-01,\n",
       "       5.99484250e-01, 1.66810054e+00, 4.64158883e+00, 1.29154967e+01,\n",
       "       3.59381366e+01, 1.00000000e+02])},\n",
       "             scoring='accuracy')"
      ]
     },
     "execution_count": 13,
     "metadata": {},
     "output_type": "execute_result"
    }
   ],
   "execution_count": 13
  },
  {
   "metadata": {},
   "cell_type": "markdown",
   "source": "Predict using the test set and evaluate performance",
   "id": "d2d00a2a37504d0a"
  },
  {
   "metadata": {
    "ExecuteTime": {
     "end_time": "2025-06-05T16:03:37.064462Z",
     "start_time": "2025-06-05T16:03:37.049696Z"
    }
   },
   "cell_type": "code",
   "source": "model = grid_search.best_estimator_",
   "id": "ae0cacf896e6fea4",
   "outputs": [],
   "execution_count": 14
  },
  {
   "metadata": {
    "ExecuteTime": {
     "end_time": "2025-06-05T16:03:42.371770Z",
     "start_time": "2025-06-05T16:03:38.447155Z"
    }
   },
   "cell_type": "code",
   "source": [
    "y_pred = model.predict(x_test)\n",
    "print(\"Test Data Classification Report:\")\n",
    "print(classification_report(y_test, y_pred))"
   ],
   "id": "e282e044d0f693bd",
   "outputs": [
    {
     "name": "stdout",
     "output_type": "stream",
     "text": [
      "Test Data Classification Report:\n",
      "              precision    recall  f1-score   support\n",
      "\n",
      "       hyper       0.78      0.50      0.61     40355\n",
      "        hypo       0.31      0.01      0.02      3000\n",
      "      normal       0.88      0.97      0.92    173400\n",
      "\n",
      "    accuracy                           0.87    216755\n",
      "   macro avg       0.66      0.49      0.52    216755\n",
      "weighted avg       0.85      0.87      0.85    216755\n",
      "\n"
     ]
    }
   ],
   "execution_count": 15
  },
  {
   "metadata": {
    "ExecuteTime": {
     "end_time": "2025-06-05T16:04:23.970351Z",
     "start_time": "2025-06-05T16:04:23.590150Z"
    }
   },
   "cell_type": "code",
   "source": [
    "y_score = model.predict_proba(x_test)\n",
    "auc = roc_auc_score(y_test, y_score, multi_class='ovr')\n",
    "print(f\"Multiclass ROC AUC (ovr): {auc:.4f}\")"
   ],
   "id": "6ca630bd16bd12b2",
   "outputs": [
    {
     "name": "stdout",
     "output_type": "stream",
     "text": [
      "Multiclass ROC AUC (ovr): 0.8689\n"
     ]
    }
   ],
   "execution_count": 16
  },
  {
   "metadata": {
    "ExecuteTime": {
     "end_time": "2025-06-05T16:04:35.712335Z",
     "start_time": "2025-06-05T16:04:35.253231Z"
    }
   },
   "cell_type": "code",
   "source": [
    "print(\"Confusion Matrix:\")\n",
    "print(confusion_matrix(y_test, y_pred))"
   ],
   "id": "92abc996f6d1db8d",
   "outputs": [
    {
     "name": "stdout",
     "output_type": "stream",
     "text": [
      "Confusion Matrix:\n",
      "[[ 20282      7  20066]\n",
      " [    87     30   2883]\n",
      " [  5625     61 167714]]\n"
     ]
    }
   ],
   "execution_count": 17
  },
  {
   "metadata": {},
   "cell_type": "markdown",
   "source": "Information for result documentation (sample size and features)",
   "id": "97424ca236618207"
  },
  {
   "metadata": {
    "ExecuteTime": {
     "end_time": "2025-06-05T16:04:37.193294Z",
     "start_time": "2025-06-05T16:04:37.190293Z"
    }
   },
   "cell_type": "code",
   "source": [
    "print(\"Columns:\")\n",
    "print(data.columns)\n",
    "print(\"Data size:\")\n",
    "print(data.shape)"
   ],
   "id": "d11c09fc4c02040f",
   "outputs": [
    {
     "name": "stdout",
     "output_type": "stream",
     "text": [
      "Columns:\n",
      "Index(['label', 'glucose', 'mean_last3', 'std_last3', 'trend', 'BUN',\n",
      "       'Creatinine', 'Diastolic Blood Pressure', 'Heart Rate', 'Hemoglobin',\n",
      "       'Mean Blood Pressure', 'O2 Saturation', 'Respiratory Rate', 'Sodium',\n",
      "       'Systolic Blood Pressure', 'WBC'],\n",
      "      dtype='object')\n",
      "Data size:\n",
      "(1083775, 16)\n"
     ]
    }
   ],
   "execution_count": 18
  },
  {
   "metadata": {
    "ExecuteTime": {
     "end_time": "2025-06-05T16:04:39.267142Z",
     "start_time": "2025-06-05T16:04:39.260141Z"
    }
   },
   "cell_type": "code",
   "source": "print(\", \".join(data.columns.tolist()))",
   "id": "d53b6fe6d407da58",
   "outputs": [
    {
     "name": "stdout",
     "output_type": "stream",
     "text": [
      "label, glucose, mean_last3, std_last3, trend, BUN, Creatinine, Diastolic Blood Pressure, Heart Rate, Hemoglobin, Mean Blood Pressure, O2 Saturation, Respiratory Rate, Sodium, Systolic Blood Pressure, WBC\n"
     ]
    }
   ],
   "execution_count": 19
  }
 ],
 "metadata": {
  "kernelspec": {
   "display_name": "Python 3",
   "language": "python",
   "name": "python3"
  },
  "language_info": {
   "codemirror_mode": {
    "name": "ipython",
    "version": 2
   },
   "file_extension": ".py",
   "mimetype": "text/x-python",
   "name": "python",
   "nbconvert_exporter": "python",
   "pygments_lexer": "ipython2",
   "version": "2.7.6"
  }
 },
 "nbformat": 4,
 "nbformat_minor": 5
}

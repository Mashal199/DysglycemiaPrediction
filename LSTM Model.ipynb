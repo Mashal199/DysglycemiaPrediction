{
 "cells": [
  {
   "cell_type": "code",
   "execution_count": 1,
   "id": "eb2c907e",
   "metadata": {
    "id": "eb2c907e"
   },
   "outputs": [],
   "source": [
    "seed = 3906303"
   ]
  },
  {
   "cell_type": "code",
   "execution_count": 2,
   "id": "69ad3916",
   "metadata": {
    "id": "69ad3916"
   },
   "outputs": [],
   "source": [
    "import numpy as np\n",
    "import pandas as pd\n",
    "import seaborn as sns\n",
    "import matplotlib.pyplot as plt\n",
    "import tensorflow as tf\n",
    "from tensorflow.keras.preprocessing.sequence import pad_sequences\n",
    "from sklearn.model_selection import train_test_split\n",
    "from sklearn.metrics import mean_absolute_error, mean_squared_error, r2_score\n",
    "import math\n",
    "\n",
    "import gzip\n",
    "import random\n",
    "np.random.seed(seed)\n",
    "random.seed(seed)"
   ]
  },
  {
   "cell_type": "code",
   "execution_count": 3,
   "id": "8e4cf410",
   "metadata": {
    "colab": {
     "base_uri": "https://localhost:8080/",
     "height": 423
    },
    "id": "8e4cf410",
    "outputId": "237f6030-aebc-4593-da5b-20e008fc46c9"
   },
   "outputs": [
    {
     "data": {
      "text/html": [
       "<div>\n",
       "<style scoped>\n",
       "    .dataframe tbody tr th:only-of-type {\n",
       "        vertical-align: middle;\n",
       "    }\n",
       "\n",
       "    .dataframe tbody tr th {\n",
       "        vertical-align: top;\n",
       "    }\n",
       "\n",
       "    .dataframe thead th {\n",
       "        text-align: right;\n",
       "    }\n",
       "</style>\n",
       "<table border=\"1\" class=\"dataframe\">\n",
       "  <thead>\n",
       "    <tr style=\"text-align: right;\">\n",
       "      <th></th>\n",
       "      <th>Unnamed: 0</th>\n",
       "      <th>subject_id</th>\n",
       "      <th>hadm_id</th>\n",
       "      <th>stay_id</th>\n",
       "      <th>caregiver_id</th>\n",
       "      <th>charttime</th>\n",
       "      <th>storetime</th>\n",
       "      <th>itemid</th>\n",
       "      <th>value</th>\n",
       "      <th>valuenum</th>\n",
       "      <th>valueuom</th>\n",
       "      <th>warning</th>\n",
       "    </tr>\n",
       "  </thead>\n",
       "  <tbody>\n",
       "    <tr>\n",
       "      <th>0</th>\n",
       "      <td>0</td>\n",
       "      <td>10000032</td>\n",
       "      <td>29079034</td>\n",
       "      <td>39553978</td>\n",
       "      <td>NaN</td>\n",
       "      <td>2180-07-23 21:45:00</td>\n",
       "      <td>2180-07-23 22:30:00</td>\n",
       "      <td>220621</td>\n",
       "      <td>115.0</td>\n",
       "      <td>115.0</td>\n",
       "      <td>mg/dL</td>\n",
       "      <td>1</td>\n",
       "    </tr>\n",
       "    <tr>\n",
       "      <th>1</th>\n",
       "      <td>1</td>\n",
       "      <td>10000690</td>\n",
       "      <td>25860671</td>\n",
       "      <td>37081114</td>\n",
       "      <td>84407.0</td>\n",
       "      <td>2150-11-04 10:00:00</td>\n",
       "      <td>2150-11-04 09:39:00</td>\n",
       "      <td>225664</td>\n",
       "      <td>117.0</td>\n",
       "      <td>117.0</td>\n",
       "      <td>NaN</td>\n",
       "      <td>0</td>\n",
       "    </tr>\n",
       "    <tr>\n",
       "      <th>2</th>\n",
       "      <td>2</td>\n",
       "      <td>10000690</td>\n",
       "      <td>25860671</td>\n",
       "      <td>37081114</td>\n",
       "      <td>NaN</td>\n",
       "      <td>2150-11-03 02:56:00</td>\n",
       "      <td>2150-11-03 04:22:00</td>\n",
       "      <td>220621</td>\n",
       "      <td>77.0</td>\n",
       "      <td>77.0</td>\n",
       "      <td>mg/dL</td>\n",
       "      <td>0</td>\n",
       "    </tr>\n",
       "    <tr>\n",
       "      <th>3</th>\n",
       "      <td>3</td>\n",
       "      <td>10000690</td>\n",
       "      <td>25860671</td>\n",
       "      <td>37081114</td>\n",
       "      <td>NaN</td>\n",
       "      <td>2150-11-04 03:03:00</td>\n",
       "      <td>2150-11-04 03:44:00</td>\n",
       "      <td>220621</td>\n",
       "      <td>84.0</td>\n",
       "      <td>84.0</td>\n",
       "      <td>mg/dL</td>\n",
       "      <td>0</td>\n",
       "    </tr>\n",
       "    <tr>\n",
       "      <th>4</th>\n",
       "      <td>4</td>\n",
       "      <td>10000690</td>\n",
       "      <td>25860671</td>\n",
       "      <td>37081114</td>\n",
       "      <td>NaN</td>\n",
       "      <td>2150-11-04 17:54:00</td>\n",
       "      <td>2150-11-04 18:41:00</td>\n",
       "      <td>220621</td>\n",
       "      <td>120.0</td>\n",
       "      <td>120.0</td>\n",
       "      <td>mg/dL</td>\n",
       "      <td>1</td>\n",
       "    </tr>\n",
       "    <tr>\n",
       "      <th>...</th>\n",
       "      <td>...</td>\n",
       "      <td>...</td>\n",
       "      <td>...</td>\n",
       "      <td>...</td>\n",
       "      <td>...</td>\n",
       "      <td>...</td>\n",
       "      <td>...</td>\n",
       "      <td>...</td>\n",
       "      <td>...</td>\n",
       "      <td>...</td>\n",
       "      <td>...</td>\n",
       "      <td>...</td>\n",
       "    </tr>\n",
       "    <tr>\n",
       "      <th>361863</th>\n",
       "      <td>1814451</td>\n",
       "      <td>19999840</td>\n",
       "      <td>21033226</td>\n",
       "      <td>38978960</td>\n",
       "      <td>NaN</td>\n",
       "      <td>2164-09-17 08:11:00</td>\n",
       "      <td>2164-09-17 08:14:00</td>\n",
       "      <td>226537</td>\n",
       "      <td>166.0</td>\n",
       "      <td>166.0</td>\n",
       "      <td>mg/dL</td>\n",
       "      <td>1</td>\n",
       "    </tr>\n",
       "    <tr>\n",
       "      <th>361864</th>\n",
       "      <td>1814452</td>\n",
       "      <td>19999840</td>\n",
       "      <td>21033226</td>\n",
       "      <td>38978960</td>\n",
       "      <td>NaN</td>\n",
       "      <td>2164-09-17 13:13:00</td>\n",
       "      <td>2164-09-17 13:53:00</td>\n",
       "      <td>220621</td>\n",
       "      <td>146.0</td>\n",
       "      <td>146.0</td>\n",
       "      <td>mg/dL</td>\n",
       "      <td>1</td>\n",
       "    </tr>\n",
       "    <tr>\n",
       "      <th>361865</th>\n",
       "      <td>1814453</td>\n",
       "      <td>19999840</td>\n",
       "      <td>21033226</td>\n",
       "      <td>38978960</td>\n",
       "      <td>NaN</td>\n",
       "      <td>2164-09-17 13:18:00</td>\n",
       "      <td>2164-09-17 13:28:00</td>\n",
       "      <td>226537</td>\n",
       "      <td>139.0</td>\n",
       "      <td>139.0</td>\n",
       "      <td>mg/dL</td>\n",
       "      <td>1</td>\n",
       "    </tr>\n",
       "    <tr>\n",
       "      <th>361866</th>\n",
       "      <td>1814454</td>\n",
       "      <td>19999840</td>\n",
       "      <td>21033226</td>\n",
       "      <td>38978960</td>\n",
       "      <td>NaN</td>\n",
       "      <td>2164-09-17 13:34:00</td>\n",
       "      <td>2164-09-17 13:37:00</td>\n",
       "      <td>226537</td>\n",
       "      <td>275.0</td>\n",
       "      <td>275.0</td>\n",
       "      <td>mg/dL</td>\n",
       "      <td>1</td>\n",
       "    </tr>\n",
       "    <tr>\n",
       "      <th>361867</th>\n",
       "      <td>1814455</td>\n",
       "      <td>19999840</td>\n",
       "      <td>21033226</td>\n",
       "      <td>38978960</td>\n",
       "      <td>NaN</td>\n",
       "      <td>2164-09-17 13:39:00</td>\n",
       "      <td>2164-09-17 13:49:00</td>\n",
       "      <td>226537</td>\n",
       "      <td>369.0</td>\n",
       "      <td>369.0</td>\n",
       "      <td>mg/dL</td>\n",
       "      <td>1</td>\n",
       "    </tr>\n",
       "  </tbody>\n",
       "</table>\n",
       "<p>361868 rows × 12 columns</p>\n",
       "</div>"
      ],
      "text/plain": [
       "        Unnamed: 0  subject_id   hadm_id   stay_id  caregiver_id  \\\n",
       "0                0    10000032  29079034  39553978           NaN   \n",
       "1                1    10000690  25860671  37081114       84407.0   \n",
       "2                2    10000690  25860671  37081114           NaN   \n",
       "3                3    10000690  25860671  37081114           NaN   \n",
       "4                4    10000690  25860671  37081114           NaN   \n",
       "...            ...         ...       ...       ...           ...   \n",
       "361863     1814451    19999840  21033226  38978960           NaN   \n",
       "361864     1814452    19999840  21033226  38978960           NaN   \n",
       "361865     1814453    19999840  21033226  38978960           NaN   \n",
       "361866     1814454    19999840  21033226  38978960           NaN   \n",
       "361867     1814455    19999840  21033226  38978960           NaN   \n",
       "\n",
       "                  charttime            storetime  itemid  value  valuenum  \\\n",
       "0       2180-07-23 21:45:00  2180-07-23 22:30:00  220621  115.0     115.0   \n",
       "1       2150-11-04 10:00:00  2150-11-04 09:39:00  225664  117.0     117.0   \n",
       "2       2150-11-03 02:56:00  2150-11-03 04:22:00  220621   77.0      77.0   \n",
       "3       2150-11-04 03:03:00  2150-11-04 03:44:00  220621   84.0      84.0   \n",
       "4       2150-11-04 17:54:00  2150-11-04 18:41:00  220621  120.0     120.0   \n",
       "...                     ...                  ...     ...    ...       ...   \n",
       "361863  2164-09-17 08:11:00  2164-09-17 08:14:00  226537  166.0     166.0   \n",
       "361864  2164-09-17 13:13:00  2164-09-17 13:53:00  220621  146.0     146.0   \n",
       "361865  2164-09-17 13:18:00  2164-09-17 13:28:00  226537  139.0     139.0   \n",
       "361866  2164-09-17 13:34:00  2164-09-17 13:37:00  226537  275.0     275.0   \n",
       "361867  2164-09-17 13:39:00  2164-09-17 13:49:00  226537  369.0     369.0   \n",
       "\n",
       "       valueuom  warning  \n",
       "0         mg/dL        1  \n",
       "1           NaN        0  \n",
       "2         mg/dL        0  \n",
       "3         mg/dL        0  \n",
       "4         mg/dL        1  \n",
       "...         ...      ...  \n",
       "361863    mg/dL        1  \n",
       "361864    mg/dL        1  \n",
       "361865    mg/dL        1  \n",
       "361866    mg/dL        1  \n",
       "361867    mg/dL        1  \n",
       "\n",
       "[361868 rows x 12 columns]"
      ]
     },
     "execution_count": 3,
     "metadata": {},
     "output_type": "execute_result"
    }
   ],
   "source": [
    "df_icu_filtered = pd.read_csv(\"bg_filtered_chartevents.csv\")\n",
    "df_icu_filtered"
   ]
  },
  {
   "cell_type": "code",
   "execution_count": 4,
   "id": "a29d1256",
   "metadata": {},
   "outputs": [],
   "source": [
    "df_icu_filtered.drop(columns=['Unnamed: 0'], inplace = True)"
   ]
  },
  {
   "cell_type": "code",
   "execution_count": 5,
   "id": "248cd8d9",
   "metadata": {
    "colab": {
     "base_uri": "https://localhost:8080/",
     "height": 423
    },
    "id": "248cd8d9",
    "outputId": "1976e392-fb7e-4ed1-c2f7-27b249e6e6af"
   },
   "outputs": [
    {
     "data": {
      "text/html": [
       "<div>\n",
       "<style scoped>\n",
       "    .dataframe tbody tr th:only-of-type {\n",
       "        vertical-align: middle;\n",
       "    }\n",
       "\n",
       "    .dataframe tbody tr th {\n",
       "        vertical-align: top;\n",
       "    }\n",
       "\n",
       "    .dataframe thead th {\n",
       "        text-align: right;\n",
       "    }\n",
       "</style>\n",
       "<table border=\"1\" class=\"dataframe\">\n",
       "  <thead>\n",
       "    <tr style=\"text-align: right;\">\n",
       "      <th></th>\n",
       "      <th>subject_id</th>\n",
       "      <th>hadm_id</th>\n",
       "      <th>stay_id</th>\n",
       "      <th>caregiver_id</th>\n",
       "      <th>charttime</th>\n",
       "      <th>storetime</th>\n",
       "      <th>itemid</th>\n",
       "      <th>value</th>\n",
       "      <th>valuenum</th>\n",
       "      <th>valueuom</th>\n",
       "      <th>warning</th>\n",
       "    </tr>\n",
       "  </thead>\n",
       "  <tbody>\n",
       "    <tr>\n",
       "      <th>0</th>\n",
       "      <td>10000032</td>\n",
       "      <td>29079034</td>\n",
       "      <td>39553978</td>\n",
       "      <td>NaN</td>\n",
       "      <td>2180-07-23 21:45:00</td>\n",
       "      <td>2180-07-23 22:30:00</td>\n",
       "      <td>220621</td>\n",
       "      <td>115.0</td>\n",
       "      <td>115.0</td>\n",
       "      <td>mg/dL</td>\n",
       "      <td>1</td>\n",
       "    </tr>\n",
       "    <tr>\n",
       "      <th>2</th>\n",
       "      <td>10000690</td>\n",
       "      <td>25860671</td>\n",
       "      <td>37081114</td>\n",
       "      <td>NaN</td>\n",
       "      <td>2150-11-03 02:56:00</td>\n",
       "      <td>2150-11-03 04:22:00</td>\n",
       "      <td>220621</td>\n",
       "      <td>77.0</td>\n",
       "      <td>77.0</td>\n",
       "      <td>mg/dL</td>\n",
       "      <td>0</td>\n",
       "    </tr>\n",
       "    <tr>\n",
       "      <th>3</th>\n",
       "      <td>10000690</td>\n",
       "      <td>25860671</td>\n",
       "      <td>37081114</td>\n",
       "      <td>NaN</td>\n",
       "      <td>2150-11-04 03:03:00</td>\n",
       "      <td>2150-11-04 03:44:00</td>\n",
       "      <td>220621</td>\n",
       "      <td>84.0</td>\n",
       "      <td>84.0</td>\n",
       "      <td>mg/dL</td>\n",
       "      <td>0</td>\n",
       "    </tr>\n",
       "    <tr>\n",
       "      <th>1</th>\n",
       "      <td>10000690</td>\n",
       "      <td>25860671</td>\n",
       "      <td>37081114</td>\n",
       "      <td>84407.0</td>\n",
       "      <td>2150-11-04 10:00:00</td>\n",
       "      <td>2150-11-04 09:39:00</td>\n",
       "      <td>225664</td>\n",
       "      <td>117.0</td>\n",
       "      <td>117.0</td>\n",
       "      <td>NaN</td>\n",
       "      <td>0</td>\n",
       "    </tr>\n",
       "    <tr>\n",
       "      <th>4</th>\n",
       "      <td>10000690</td>\n",
       "      <td>25860671</td>\n",
       "      <td>37081114</td>\n",
       "      <td>NaN</td>\n",
       "      <td>2150-11-04 17:54:00</td>\n",
       "      <td>2150-11-04 18:41:00</td>\n",
       "      <td>220621</td>\n",
       "      <td>120.0</td>\n",
       "      <td>120.0</td>\n",
       "      <td>mg/dL</td>\n",
       "      <td>1</td>\n",
       "    </tr>\n",
       "    <tr>\n",
       "      <th>...</th>\n",
       "      <td>...</td>\n",
       "      <td>...</td>\n",
       "      <td>...</td>\n",
       "      <td>...</td>\n",
       "      <td>...</td>\n",
       "      <td>...</td>\n",
       "      <td>...</td>\n",
       "      <td>...</td>\n",
       "      <td>...</td>\n",
       "      <td>...</td>\n",
       "      <td>...</td>\n",
       "    </tr>\n",
       "    <tr>\n",
       "      <th>361852</th>\n",
       "      <td>19999840</td>\n",
       "      <td>21033226</td>\n",
       "      <td>38978960</td>\n",
       "      <td>93123.0</td>\n",
       "      <td>2164-09-17 09:00:00</td>\n",
       "      <td>2164-09-17 09:30:00</td>\n",
       "      <td>225664</td>\n",
       "      <td>179.0</td>\n",
       "      <td>179.0</td>\n",
       "      <td>NaN</td>\n",
       "      <td>0</td>\n",
       "    </tr>\n",
       "    <tr>\n",
       "      <th>361864</th>\n",
       "      <td>19999840</td>\n",
       "      <td>21033226</td>\n",
       "      <td>38978960</td>\n",
       "      <td>NaN</td>\n",
       "      <td>2164-09-17 13:13:00</td>\n",
       "      <td>2164-09-17 13:53:00</td>\n",
       "      <td>220621</td>\n",
       "      <td>146.0</td>\n",
       "      <td>146.0</td>\n",
       "      <td>mg/dL</td>\n",
       "      <td>1</td>\n",
       "    </tr>\n",
       "    <tr>\n",
       "      <th>361865</th>\n",
       "      <td>19999840</td>\n",
       "      <td>21033226</td>\n",
       "      <td>38978960</td>\n",
       "      <td>NaN</td>\n",
       "      <td>2164-09-17 13:18:00</td>\n",
       "      <td>2164-09-17 13:28:00</td>\n",
       "      <td>226537</td>\n",
       "      <td>139.0</td>\n",
       "      <td>139.0</td>\n",
       "      <td>mg/dL</td>\n",
       "      <td>1</td>\n",
       "    </tr>\n",
       "    <tr>\n",
       "      <th>361866</th>\n",
       "      <td>19999840</td>\n",
       "      <td>21033226</td>\n",
       "      <td>38978960</td>\n",
       "      <td>NaN</td>\n",
       "      <td>2164-09-17 13:34:00</td>\n",
       "      <td>2164-09-17 13:37:00</td>\n",
       "      <td>226537</td>\n",
       "      <td>275.0</td>\n",
       "      <td>275.0</td>\n",
       "      <td>mg/dL</td>\n",
       "      <td>1</td>\n",
       "    </tr>\n",
       "    <tr>\n",
       "      <th>361867</th>\n",
       "      <td>19999840</td>\n",
       "      <td>21033226</td>\n",
       "      <td>38978960</td>\n",
       "      <td>NaN</td>\n",
       "      <td>2164-09-17 13:39:00</td>\n",
       "      <td>2164-09-17 13:49:00</td>\n",
       "      <td>226537</td>\n",
       "      <td>369.0</td>\n",
       "      <td>369.0</td>\n",
       "      <td>mg/dL</td>\n",
       "      <td>1</td>\n",
       "    </tr>\n",
       "  </tbody>\n",
       "</table>\n",
       "<p>361868 rows × 11 columns</p>\n",
       "</div>"
      ],
      "text/plain": [
       "        subject_id   hadm_id   stay_id  caregiver_id            charttime  \\\n",
       "0         10000032  29079034  39553978           NaN  2180-07-23 21:45:00   \n",
       "2         10000690  25860671  37081114           NaN  2150-11-03 02:56:00   \n",
       "3         10000690  25860671  37081114           NaN  2150-11-04 03:03:00   \n",
       "1         10000690  25860671  37081114       84407.0  2150-11-04 10:00:00   \n",
       "4         10000690  25860671  37081114           NaN  2150-11-04 17:54:00   \n",
       "...            ...       ...       ...           ...                  ...   \n",
       "361852    19999840  21033226  38978960       93123.0  2164-09-17 09:00:00   \n",
       "361864    19999840  21033226  38978960           NaN  2164-09-17 13:13:00   \n",
       "361865    19999840  21033226  38978960           NaN  2164-09-17 13:18:00   \n",
       "361866    19999840  21033226  38978960           NaN  2164-09-17 13:34:00   \n",
       "361867    19999840  21033226  38978960           NaN  2164-09-17 13:39:00   \n",
       "\n",
       "                  storetime  itemid  value  valuenum valueuom  warning  \n",
       "0       2180-07-23 22:30:00  220621  115.0     115.0    mg/dL        1  \n",
       "2       2150-11-03 04:22:00  220621   77.0      77.0    mg/dL        0  \n",
       "3       2150-11-04 03:44:00  220621   84.0      84.0    mg/dL        0  \n",
       "1       2150-11-04 09:39:00  225664  117.0     117.0      NaN        0  \n",
       "4       2150-11-04 18:41:00  220621  120.0     120.0    mg/dL        1  \n",
       "...                     ...     ...    ...       ...      ...      ...  \n",
       "361852  2164-09-17 09:30:00  225664  179.0     179.0      NaN        0  \n",
       "361864  2164-09-17 13:53:00  220621  146.0     146.0    mg/dL        1  \n",
       "361865  2164-09-17 13:28:00  226537  139.0     139.0    mg/dL        1  \n",
       "361866  2164-09-17 13:37:00  226537  275.0     275.0    mg/dL        1  \n",
       "361867  2164-09-17 13:49:00  226537  369.0     369.0    mg/dL        1  \n",
       "\n",
       "[361868 rows x 11 columns]"
      ]
     },
     "execution_count": 5,
     "metadata": {},
     "output_type": "execute_result"
    }
   ],
   "source": [
    "bg_icu = df_icu_filtered\n",
    "bg_icu.sort_values(by=['subject_id', 'charttime'])"
   ]
  },
  {
   "cell_type": "code",
   "execution_count": 6,
   "id": "04569e98",
   "metadata": {
    "colab": {
     "base_uri": "https://localhost:8080/",
     "height": 206
    },
    "id": "04569e98",
    "outputId": "5285d26f-0d27-42fe-e0ba-76229b7ad115"
   },
   "outputs": [
    {
     "data": {
      "text/html": [
       "<div>\n",
       "<style scoped>\n",
       "    .dataframe tbody tr th:only-of-type {\n",
       "        vertical-align: middle;\n",
       "    }\n",
       "\n",
       "    .dataframe tbody tr th {\n",
       "        vertical-align: top;\n",
       "    }\n",
       "\n",
       "    .dataframe thead th {\n",
       "        text-align: right;\n",
       "    }\n",
       "</style>\n",
       "<table border=\"1\" class=\"dataframe\">\n",
       "  <thead>\n",
       "    <tr style=\"text-align: right;\">\n",
       "      <th></th>\n",
       "      <th>subject_id</th>\n",
       "      <th>hadm_id</th>\n",
       "      <th>stay_id</th>\n",
       "      <th>caregiver_id</th>\n",
       "      <th>charttime</th>\n",
       "      <th>storetime</th>\n",
       "      <th>itemid</th>\n",
       "      <th>value</th>\n",
       "      <th>valuenum</th>\n",
       "      <th>valueuom</th>\n",
       "      <th>warning</th>\n",
       "    </tr>\n",
       "  </thead>\n",
       "  <tbody>\n",
       "    <tr>\n",
       "      <th>86572</th>\n",
       "      <td>12468016</td>\n",
       "      <td>25074766</td>\n",
       "      <td>37541173</td>\n",
       "      <td>NaN</td>\n",
       "      <td>2138-12-11 08:46:00</td>\n",
       "      <td>2138-12-11 08:53:00</td>\n",
       "      <td>226537</td>\n",
       "      <td>1276100.0</td>\n",
       "      <td>1276100.0</td>\n",
       "      <td>mg/dL</td>\n",
       "      <td>1</td>\n",
       "    </tr>\n",
       "    <tr>\n",
       "      <th>143781</th>\n",
       "      <td>14001477</td>\n",
       "      <td>21798613</td>\n",
       "      <td>39305258</td>\n",
       "      <td>NaN</td>\n",
       "      <td>2129-08-14 18:39:00</td>\n",
       "      <td>2129-08-14 20:23:00</td>\n",
       "      <td>220621</td>\n",
       "      <td>999999.0</td>\n",
       "      <td>999999.0</td>\n",
       "      <td>mg/dL</td>\n",
       "      <td>0</td>\n",
       "    </tr>\n",
       "    <tr>\n",
       "      <th>177138</th>\n",
       "      <td>14973395</td>\n",
       "      <td>26267783</td>\n",
       "      <td>30262829</td>\n",
       "      <td>NaN</td>\n",
       "      <td>2143-03-06 19:15:00</td>\n",
       "      <td>2143-03-07 11:21:00</td>\n",
       "      <td>220621</td>\n",
       "      <td>999999.0</td>\n",
       "      <td>999999.0</td>\n",
       "      <td>NaN</td>\n",
       "      <td>0</td>\n",
       "    </tr>\n",
       "    <tr>\n",
       "      <th>159410</th>\n",
       "      <td>14432295</td>\n",
       "      <td>25310293</td>\n",
       "      <td>38536639</td>\n",
       "      <td>NaN</td>\n",
       "      <td>2184-09-03 15:43:00</td>\n",
       "      <td>2184-09-03 16:51:00</td>\n",
       "      <td>226537</td>\n",
       "      <td>999999.0</td>\n",
       "      <td>999999.0</td>\n",
       "      <td>mg/dL</td>\n",
       "      <td>0</td>\n",
       "    </tr>\n",
       "    <tr>\n",
       "      <th>29196</th>\n",
       "      <td>10861654</td>\n",
       "      <td>29147507</td>\n",
       "      <td>34719569</td>\n",
       "      <td>NaN</td>\n",
       "      <td>2123-12-26 01:09:00</td>\n",
       "      <td>2123-12-26 05:18:00</td>\n",
       "      <td>220621</td>\n",
       "      <td>999999.0</td>\n",
       "      <td>999999.0</td>\n",
       "      <td>mg/dL</td>\n",
       "      <td>0</td>\n",
       "    </tr>\n",
       "  </tbody>\n",
       "</table>\n",
       "</div>"
      ],
      "text/plain": [
       "        subject_id   hadm_id   stay_id  caregiver_id            charttime  \\\n",
       "86572     12468016  25074766  37541173           NaN  2138-12-11 08:46:00   \n",
       "143781    14001477  21798613  39305258           NaN  2129-08-14 18:39:00   \n",
       "177138    14973395  26267783  30262829           NaN  2143-03-06 19:15:00   \n",
       "159410    14432295  25310293  38536639           NaN  2184-09-03 15:43:00   \n",
       "29196     10861654  29147507  34719569           NaN  2123-12-26 01:09:00   \n",
       "\n",
       "                  storetime  itemid      value   valuenum valueuom  warning  \n",
       "86572   2138-12-11 08:53:00  226537  1276100.0  1276100.0    mg/dL        1  \n",
       "143781  2129-08-14 20:23:00  220621   999999.0   999999.0    mg/dL        0  \n",
       "177138  2143-03-07 11:21:00  220621   999999.0   999999.0      NaN        0  \n",
       "159410  2184-09-03 16:51:00  226537   999999.0   999999.0    mg/dL        0  \n",
       "29196   2123-12-26 05:18:00  220621   999999.0   999999.0    mg/dL        0  "
      ]
     },
     "execution_count": 6,
     "metadata": {},
     "output_type": "execute_result"
    }
   ],
   "source": [
    "bg_icu.sort_values(by=['value'], ascending=False).head()"
   ]
  },
  {
   "cell_type": "code",
   "execution_count": 7,
   "id": "a22c8723",
   "metadata": {
    "id": "a22c8723"
   },
   "outputs": [],
   "source": [
    "bg_icu['charttime'] = pd.to_datetime(\n",
    "    bg_icu['charttime'],\n",
    "    format='%Y-%m-%d %H:%M:%S',   # matches 2180-07-23 21:45:00\n",
    "    errors='raise'               # or 'coerce' to turn bad rows into NaT\n",
    ")\n",
    "bg_icu['storetime'] = pd.to_datetime(\n",
    "    bg_icu['storetime'],\n",
    "    format='%Y-%m-%d %H:%M:%S',   # matches 2180-07-23 21:45:00\n",
    "    errors='raise'               # or 'coerce' to turn bad rows into NaT\n",
    ")"
   ]
  },
  {
   "cell_type": "code",
   "execution_count": 8,
   "id": "4c7ecc64",
   "metadata": {
    "colab": {
     "base_uri": "https://localhost:8080/",
     "height": 147
    },
    "id": "4c7ecc64",
    "outputId": "36fd67c4-eefd-4def-9d27-b89202e768fe"
   },
   "outputs": [
    {
     "data": {
      "text/plain": [
       "mg/dL    153117\n",
       "Name: valueuom, dtype: int64"
      ]
     },
     "execution_count": 8,
     "metadata": {},
     "output_type": "execute_result"
    }
   ],
   "source": [
    "bg_icu['valueuom'].value_counts()"
   ]
  },
  {
   "cell_type": "code",
   "execution_count": 9,
   "id": "d37b0cd7",
   "metadata": {
    "colab": {
     "base_uri": "https://localhost:8080/"
    },
    "id": "d37b0cd7",
    "outputId": "8017066a-b063-4c1a-eddb-c34aea7d1cab"
   },
   "outputs": [
    {
     "name": "stdout",
     "output_type": "stream",
     "text": [
      "(361837, 11)\n",
      "(31, 11)\n"
     ]
    }
   ],
   "source": [
    "print(bg_icu[bg_icu['value'] < 2656].shape)\n",
    "print(bg_icu[bg_icu['value'] > 2656].shape)"
   ]
  },
  {
   "cell_type": "code",
   "execution_count": 10,
   "id": "b28385c9",
   "metadata": {
    "id": "b28385c9"
   },
   "outputs": [],
   "source": [
    "bg_icu = bg_icu[(bg_icu['value'] < 2656) & (bg_icu['value'] > 10)]"
   ]
  },
  {
   "cell_type": "code",
   "execution_count": 11,
   "id": "960fe0dd",
   "metadata": {
    "colab": {
     "base_uri": "https://localhost:8080/",
     "height": 206
    },
    "id": "960fe0dd",
    "outputId": "83b5feee-b4a5-4063-f2db-6d25300a4829"
   },
   "outputs": [
    {
     "data": {
      "text/html": [
       "<div>\n",
       "<style scoped>\n",
       "    .dataframe tbody tr th:only-of-type {\n",
       "        vertical-align: middle;\n",
       "    }\n",
       "\n",
       "    .dataframe tbody tr th {\n",
       "        vertical-align: top;\n",
       "    }\n",
       "\n",
       "    .dataframe thead th {\n",
       "        text-align: right;\n",
       "    }\n",
       "</style>\n",
       "<table border=\"1\" class=\"dataframe\">\n",
       "  <thead>\n",
       "    <tr style=\"text-align: right;\">\n",
       "      <th></th>\n",
       "      <th>subject_id</th>\n",
       "      <th>hadm_id</th>\n",
       "      <th>stay_id</th>\n",
       "      <th>caregiver_id</th>\n",
       "      <th>charttime</th>\n",
       "      <th>storetime</th>\n",
       "      <th>itemid</th>\n",
       "      <th>value</th>\n",
       "      <th>valuenum</th>\n",
       "      <th>valueuom</th>\n",
       "      <th>warning</th>\n",
       "    </tr>\n",
       "  </thead>\n",
       "  <tbody>\n",
       "    <tr>\n",
       "      <th>210625</th>\n",
       "      <td>15816613</td>\n",
       "      <td>20786142</td>\n",
       "      <td>37630991</td>\n",
       "      <td>NaN</td>\n",
       "      <td>2181-11-23 02:04:00</td>\n",
       "      <td>2181-11-23 03:25:00</td>\n",
       "      <td>220621</td>\n",
       "      <td>2474.0</td>\n",
       "      <td>2474.0</td>\n",
       "      <td>mg/dL</td>\n",
       "      <td>1</td>\n",
       "    </tr>\n",
       "    <tr>\n",
       "      <th>158368</th>\n",
       "      <td>14392310</td>\n",
       "      <td>22267572</td>\n",
       "      <td>30763023</td>\n",
       "      <td>NaN</td>\n",
       "      <td>2178-08-13 01:44:00</td>\n",
       "      <td>2178-08-13 02:51:00</td>\n",
       "      <td>220621</td>\n",
       "      <td>2440.0</td>\n",
       "      <td>2440.0</td>\n",
       "      <td>mg/dL</td>\n",
       "      <td>1</td>\n",
       "    </tr>\n",
       "    <tr>\n",
       "      <th>196787</th>\n",
       "      <td>15465739</td>\n",
       "      <td>28798031</td>\n",
       "      <td>38185691</td>\n",
       "      <td>NaN</td>\n",
       "      <td>2137-03-14 17:18:00</td>\n",
       "      <td>2137-03-14 20:33:00</td>\n",
       "      <td>220621</td>\n",
       "      <td>2323.0</td>\n",
       "      <td>2323.0</td>\n",
       "      <td>mg/dL</td>\n",
       "      <td>1</td>\n",
       "    </tr>\n",
       "    <tr>\n",
       "      <th>156738</th>\n",
       "      <td>14363499</td>\n",
       "      <td>28723335</td>\n",
       "      <td>38277295</td>\n",
       "      <td>NaN</td>\n",
       "      <td>2124-10-03 16:50:00</td>\n",
       "      <td>2124-10-03 18:40:00</td>\n",
       "      <td>220621</td>\n",
       "      <td>2190.0</td>\n",
       "      <td>2190.0</td>\n",
       "      <td>mg/dL</td>\n",
       "      <td>1</td>\n",
       "    </tr>\n",
       "    <tr>\n",
       "      <th>19573</th>\n",
       "      <td>10636904</td>\n",
       "      <td>22554647</td>\n",
       "      <td>32199838</td>\n",
       "      <td>NaN</td>\n",
       "      <td>2112-07-08 04:31:00</td>\n",
       "      <td>2112-07-08 06:20:00</td>\n",
       "      <td>220621</td>\n",
       "      <td>1980.0</td>\n",
       "      <td>1980.0</td>\n",
       "      <td>mg/dL</td>\n",
       "      <td>1</td>\n",
       "    </tr>\n",
       "  </tbody>\n",
       "</table>\n",
       "</div>"
      ],
      "text/plain": [
       "        subject_id   hadm_id   stay_id  caregiver_id           charttime  \\\n",
       "210625    15816613  20786142  37630991           NaN 2181-11-23 02:04:00   \n",
       "158368    14392310  22267572  30763023           NaN 2178-08-13 01:44:00   \n",
       "196787    15465739  28798031  38185691           NaN 2137-03-14 17:18:00   \n",
       "156738    14363499  28723335  38277295           NaN 2124-10-03 16:50:00   \n",
       "19573     10636904  22554647  32199838           NaN 2112-07-08 04:31:00   \n",
       "\n",
       "                 storetime  itemid   value  valuenum valueuom  warning  \n",
       "210625 2181-11-23 03:25:00  220621  2474.0    2474.0    mg/dL        1  \n",
       "158368 2178-08-13 02:51:00  220621  2440.0    2440.0    mg/dL        1  \n",
       "196787 2137-03-14 20:33:00  220621  2323.0    2323.0    mg/dL        1  \n",
       "156738 2124-10-03 18:40:00  220621  2190.0    2190.0    mg/dL        1  \n",
       "19573  2112-07-08 06:20:00  220621  1980.0    1980.0    mg/dL        1  "
      ]
     },
     "execution_count": 11,
     "metadata": {},
     "output_type": "execute_result"
    }
   ],
   "source": [
    "bg_icu.sort_values(by=['value'], ascending=False).head()"
   ]
  },
  {
   "cell_type": "code",
   "execution_count": 12,
   "id": "4e72309e",
   "metadata": {
    "colab": {
     "base_uri": "https://localhost:8080/"
    },
    "id": "4e72309e",
    "outputId": "fa9fd2bc-bb5a-4af1-887e-cb471ee71f7c"
   },
   "outputs": [
    {
     "data": {
      "text/plain": [
       "16616"
      ]
     },
     "execution_count": 12,
     "metadata": {},
     "output_type": "execute_result"
    }
   ],
   "source": [
    "bg_icu['subject_id'].nunique()"
   ]
  },
  {
   "cell_type": "code",
   "execution_count": 13,
   "id": "27aaf7c5",
   "metadata": {
    "colab": {
     "base_uri": "https://localhost:8080/"
    },
    "id": "27aaf7c5",
    "outputId": "75329230-687e-4833-eb08-6bdf2feb6a45"
   },
   "outputs": [
    {
     "data": {
      "text/plain": [
       "16616"
      ]
     },
     "execution_count": 13,
     "metadata": {},
     "output_type": "execute_result"
    }
   ],
   "source": [
    "bg_icu['subject_id'].nunique()"
   ]
  },
  {
   "cell_type": "markdown",
   "id": "f4b3b772",
   "metadata": {
    "id": "f4b3b772"
   },
   "source": [
    "# Split Dataset into Training, Validation and Testing Datasets"
   ]
  },
  {
   "cell_type": "code",
   "execution_count": 14,
   "id": "b75095ad",
   "metadata": {
    "colab": {
     "base_uri": "https://localhost:8080/"
    },
    "id": "b75095ad",
    "outputId": "fda47e08-3411-4734-a484-e6d7675ac089"
   },
   "outputs": [
    {
     "data": {
      "text/plain": [
       "(array([13272956, 13985229, 13777050, ..., 15899798, 13665139, 13399590],\n",
       "       dtype=int64),\n",
       " array([13387877, 15023828, 13276225, ..., 17078260, 17721420, 11626382],\n",
       "       dtype=int64))"
      ]
     },
     "execution_count": 14,
     "metadata": {},
     "output_type": "execute_result"
    }
   ],
   "source": [
    "# Get unique patient ids\n",
    "unique_subjects = bg_icu['subject_id'].unique()\n",
    "\n",
    "train_subjects, test_subjects = train_test_split(unique_subjects, test_size=0.2, random_state=seed)\n",
    "train_subjects, test_subjects"
   ]
  },
  {
   "cell_type": "code",
   "execution_count": 15,
   "id": "387fc873",
   "metadata": {
    "id": "387fc873"
   },
   "outputs": [],
   "source": [
    "train_subjects, val_subjects = train_test_split(train_subjects, test_size=0.25, random_state=seed)"
   ]
  },
  {
   "cell_type": "code",
   "execution_count": 16,
   "id": "36671c13",
   "metadata": {
    "colab": {
     "base_uri": "https://localhost:8080/"
    },
    "id": "36671c13",
    "outputId": "5586b042-27be-448f-f0a3-d9476978d483"
   },
   "outputs": [
    {
     "data": {
      "text/plain": [
       "73450"
      ]
     },
     "execution_count": 16,
     "metadata": {},
     "output_type": "execute_result"
    }
   ],
   "source": [
    "bg_icu['subject_id'].isin(test_subjects).sum()"
   ]
  },
  {
   "cell_type": "code",
   "execution_count": 17,
   "id": "8acedf01",
   "metadata": {
    "colab": {
     "base_uri": "https://localhost:8080/"
    },
    "id": "8acedf01",
    "outputId": "c48e6203-6598-447d-aea9-02f5ee57f7c0"
   },
   "outputs": [
    {
     "data": {
      "text/plain": [
       "216452"
      ]
     },
     "execution_count": 17,
     "metadata": {},
     "output_type": "execute_result"
    }
   ],
   "source": [
    "bg_icu['subject_id'].isin(train_subjects).sum()"
   ]
  },
  {
   "cell_type": "code",
   "execution_count": 18,
   "id": "cec0530c",
   "metadata": {
    "colab": {
     "base_uri": "https://localhost:8080/"
    },
    "id": "cec0530c",
    "outputId": "759c61d8-1a7b-4433-b583-a820a0c61c89"
   },
   "outputs": [
    {
     "data": {
      "text/plain": [
       "208708"
      ]
     },
     "execution_count": 18,
     "metadata": {},
     "output_type": "execute_result"
    }
   ],
   "source": [
    "bg_icu['valueuom'].isna().sum()"
   ]
  },
  {
   "cell_type": "markdown",
   "id": "a34892f4",
   "metadata": {
    "id": "a34892f4"
   },
   "source": [
    "### Creating sequenced data"
   ]
  },
  {
   "cell_type": "markdown",
   "id": "aed2cedc",
   "metadata": {
    "id": "aed2cedc"
   },
   "source": [
    "Here we create the data to be fed into the model. Each row of data in the X datasets is a sequence of BG measurements. The Y datasets contain a BG reading that follows directly from that sequence after.\n",
    "\n",
    "The approach we took is so that a sequence of measurements (starting from the first) is created of certain length from each ICU admission, which is taken as the X, and the following value after the sequence is taken as the Y. Then the window is slid over by one so that the sequence is slightly different, creating a new X value and a new following Y value. This process is repeated until the end of the ICU admission measurement sequence is reached, then a new ICU admission is chosen, until all ICU admissions have had their sequences recorded."
   ]
  },
  {
   "cell_type": "code",
   "execution_count": 19,
   "id": "d0bb6c7c",
   "metadata": {
    "colab": {
     "base_uri": "https://localhost:8080/",
     "height": 206
    },
    "id": "d0bb6c7c",
    "outputId": "794e2073-a811-489b-b056-97bb230f45b1"
   },
   "outputs": [
    {
     "data": {
      "text/html": [
       "<div>\n",
       "<style scoped>\n",
       "    .dataframe tbody tr th:only-of-type {\n",
       "        vertical-align: middle;\n",
       "    }\n",
       "\n",
       "    .dataframe tbody tr th {\n",
       "        vertical-align: top;\n",
       "    }\n",
       "\n",
       "    .dataframe thead th {\n",
       "        text-align: right;\n",
       "    }\n",
       "</style>\n",
       "<table border=\"1\" class=\"dataframe\">\n",
       "  <thead>\n",
       "    <tr style=\"text-align: right;\">\n",
       "      <th></th>\n",
       "      <th>subject_id</th>\n",
       "      <th>hadm_id</th>\n",
       "      <th>stay_id</th>\n",
       "      <th>caregiver_id</th>\n",
       "      <th>charttime</th>\n",
       "      <th>storetime</th>\n",
       "      <th>itemid</th>\n",
       "      <th>value</th>\n",
       "      <th>valuenum</th>\n",
       "      <th>valueuom</th>\n",
       "      <th>warning</th>\n",
       "    </tr>\n",
       "  </thead>\n",
       "  <tbody>\n",
       "    <tr>\n",
       "      <th>0</th>\n",
       "      <td>10000032</td>\n",
       "      <td>29079034</td>\n",
       "      <td>39553978</td>\n",
       "      <td>NaN</td>\n",
       "      <td>2180-07-23 21:45:00</td>\n",
       "      <td>2180-07-23 22:30:00</td>\n",
       "      <td>220621</td>\n",
       "      <td>115.0</td>\n",
       "      <td>115.0</td>\n",
       "      <td>mg/dL</td>\n",
       "      <td>1</td>\n",
       "    </tr>\n",
       "    <tr>\n",
       "      <th>1</th>\n",
       "      <td>10000690</td>\n",
       "      <td>25860671</td>\n",
       "      <td>37081114</td>\n",
       "      <td>84407.0</td>\n",
       "      <td>2150-11-04 10:00:00</td>\n",
       "      <td>2150-11-04 09:39:00</td>\n",
       "      <td>225664</td>\n",
       "      <td>117.0</td>\n",
       "      <td>117.0</td>\n",
       "      <td>NaN</td>\n",
       "      <td>0</td>\n",
       "    </tr>\n",
       "    <tr>\n",
       "      <th>2</th>\n",
       "      <td>10000690</td>\n",
       "      <td>25860671</td>\n",
       "      <td>37081114</td>\n",
       "      <td>NaN</td>\n",
       "      <td>2150-11-03 02:56:00</td>\n",
       "      <td>2150-11-03 04:22:00</td>\n",
       "      <td>220621</td>\n",
       "      <td>77.0</td>\n",
       "      <td>77.0</td>\n",
       "      <td>mg/dL</td>\n",
       "      <td>0</td>\n",
       "    </tr>\n",
       "    <tr>\n",
       "      <th>3</th>\n",
       "      <td>10000690</td>\n",
       "      <td>25860671</td>\n",
       "      <td>37081114</td>\n",
       "      <td>NaN</td>\n",
       "      <td>2150-11-04 03:03:00</td>\n",
       "      <td>2150-11-04 03:44:00</td>\n",
       "      <td>220621</td>\n",
       "      <td>84.0</td>\n",
       "      <td>84.0</td>\n",
       "      <td>mg/dL</td>\n",
       "      <td>0</td>\n",
       "    </tr>\n",
       "    <tr>\n",
       "      <th>4</th>\n",
       "      <td>10000690</td>\n",
       "      <td>25860671</td>\n",
       "      <td>37081114</td>\n",
       "      <td>NaN</td>\n",
       "      <td>2150-11-04 17:54:00</td>\n",
       "      <td>2150-11-04 18:41:00</td>\n",
       "      <td>220621</td>\n",
       "      <td>120.0</td>\n",
       "      <td>120.0</td>\n",
       "      <td>mg/dL</td>\n",
       "      <td>1</td>\n",
       "    </tr>\n",
       "  </tbody>\n",
       "</table>\n",
       "</div>"
      ],
      "text/plain": [
       "   subject_id   hadm_id   stay_id  caregiver_id           charttime  \\\n",
       "0    10000032  29079034  39553978           NaN 2180-07-23 21:45:00   \n",
       "1    10000690  25860671  37081114       84407.0 2150-11-04 10:00:00   \n",
       "2    10000690  25860671  37081114           NaN 2150-11-03 02:56:00   \n",
       "3    10000690  25860671  37081114           NaN 2150-11-04 03:03:00   \n",
       "4    10000690  25860671  37081114           NaN 2150-11-04 17:54:00   \n",
       "\n",
       "            storetime  itemid  value  valuenum valueuom  warning  \n",
       "0 2180-07-23 22:30:00  220621  115.0     115.0    mg/dL        1  \n",
       "1 2150-11-04 09:39:00  225664  117.0     117.0      NaN        0  \n",
       "2 2150-11-03 04:22:00  220621   77.0      77.0    mg/dL        0  \n",
       "3 2150-11-04 03:44:00  220621   84.0      84.0    mg/dL        0  \n",
       "4 2150-11-04 18:41:00  220621  120.0     120.0    mg/dL        1  "
      ]
     },
     "execution_count": 19,
     "metadata": {},
     "output_type": "execute_result"
    }
   ],
   "source": [
    "df_train = bg_icu[bg_icu['subject_id'].isin(train_subjects)]\n",
    "df_train.head()"
   ]
  },
  {
   "cell_type": "code",
   "execution_count": 20,
   "id": "2c9fd92c",
   "metadata": {
    "colab": {
     "base_uri": "https://localhost:8080/",
     "height": 206
    },
    "id": "2c9fd92c",
    "outputId": "f2aaef44-b68f-4041-afa1-109aaa0b3be2"
   },
   "outputs": [
    {
     "data": {
      "text/html": [
       "<div>\n",
       "<style scoped>\n",
       "    .dataframe tbody tr th:only-of-type {\n",
       "        vertical-align: middle;\n",
       "    }\n",
       "\n",
       "    .dataframe tbody tr th {\n",
       "        vertical-align: top;\n",
       "    }\n",
       "\n",
       "    .dataframe thead th {\n",
       "        text-align: right;\n",
       "    }\n",
       "</style>\n",
       "<table border=\"1\" class=\"dataframe\">\n",
       "  <thead>\n",
       "    <tr style=\"text-align: right;\">\n",
       "      <th></th>\n",
       "      <th>subject_id</th>\n",
       "      <th>hadm_id</th>\n",
       "      <th>stay_id</th>\n",
       "      <th>caregiver_id</th>\n",
       "      <th>charttime</th>\n",
       "      <th>storetime</th>\n",
       "      <th>itemid</th>\n",
       "      <th>value</th>\n",
       "      <th>valuenum</th>\n",
       "      <th>valueuom</th>\n",
       "      <th>warning</th>\n",
       "    </tr>\n",
       "  </thead>\n",
       "  <tbody>\n",
       "    <tr>\n",
       "      <th>19</th>\n",
       "      <td>10002155</td>\n",
       "      <td>23822395</td>\n",
       "      <td>33685454</td>\n",
       "      <td>NaN</td>\n",
       "      <td>2129-08-04 17:56:00</td>\n",
       "      <td>2129-08-04 18:51:00</td>\n",
       "      <td>220621</td>\n",
       "      <td>95.0</td>\n",
       "      <td>95.0</td>\n",
       "      <td>mg/dL</td>\n",
       "      <td>0</td>\n",
       "    </tr>\n",
       "    <tr>\n",
       "      <th>20</th>\n",
       "      <td>10002155</td>\n",
       "      <td>23822395</td>\n",
       "      <td>33685454</td>\n",
       "      <td>NaN</td>\n",
       "      <td>2129-08-05 05:01:00</td>\n",
       "      <td>2129-08-05 07:04:00</td>\n",
       "      <td>220621</td>\n",
       "      <td>107.0</td>\n",
       "      <td>107.0</td>\n",
       "      <td>mg/dL</td>\n",
       "      <td>1</td>\n",
       "    </tr>\n",
       "    <tr>\n",
       "      <th>21</th>\n",
       "      <td>10002155</td>\n",
       "      <td>23822395</td>\n",
       "      <td>33685454</td>\n",
       "      <td>NaN</td>\n",
       "      <td>2129-08-06 06:05:00</td>\n",
       "      <td>2129-08-06 08:00:00</td>\n",
       "      <td>220621</td>\n",
       "      <td>106.0</td>\n",
       "      <td>106.0</td>\n",
       "      <td>mg/dL</td>\n",
       "      <td>1</td>\n",
       "    </tr>\n",
       "    <tr>\n",
       "      <th>22</th>\n",
       "      <td>10002155</td>\n",
       "      <td>23822395</td>\n",
       "      <td>33685454</td>\n",
       "      <td>NaN</td>\n",
       "      <td>2129-08-07 04:19:00</td>\n",
       "      <td>2129-08-07 05:14:00</td>\n",
       "      <td>220621</td>\n",
       "      <td>116.0</td>\n",
       "      <td>116.0</td>\n",
       "      <td>mg/dL</td>\n",
       "      <td>1</td>\n",
       "    </tr>\n",
       "    <tr>\n",
       "      <th>23</th>\n",
       "      <td>10002155</td>\n",
       "      <td>23822395</td>\n",
       "      <td>33685454</td>\n",
       "      <td>NaN</td>\n",
       "      <td>2129-08-08 05:46:00</td>\n",
       "      <td>2129-08-08 06:43:00</td>\n",
       "      <td>220621</td>\n",
       "      <td>102.0</td>\n",
       "      <td>102.0</td>\n",
       "      <td>mg/dL</td>\n",
       "      <td>0</td>\n",
       "    </tr>\n",
       "  </tbody>\n",
       "</table>\n",
       "</div>"
      ],
      "text/plain": [
       "    subject_id   hadm_id   stay_id  caregiver_id           charttime  \\\n",
       "19    10002155  23822395  33685454           NaN 2129-08-04 17:56:00   \n",
       "20    10002155  23822395  33685454           NaN 2129-08-05 05:01:00   \n",
       "21    10002155  23822395  33685454           NaN 2129-08-06 06:05:00   \n",
       "22    10002155  23822395  33685454           NaN 2129-08-07 04:19:00   \n",
       "23    10002155  23822395  33685454           NaN 2129-08-08 05:46:00   \n",
       "\n",
       "             storetime  itemid  value  valuenum valueuom  warning  \n",
       "19 2129-08-04 18:51:00  220621   95.0      95.0    mg/dL        0  \n",
       "20 2129-08-05 07:04:00  220621  107.0     107.0    mg/dL        1  \n",
       "21 2129-08-06 08:00:00  220621  106.0     106.0    mg/dL        1  \n",
       "22 2129-08-07 05:14:00  220621  116.0     116.0    mg/dL        1  \n",
       "23 2129-08-08 06:43:00  220621  102.0     102.0    mg/dL        0  "
      ]
     },
     "execution_count": 20,
     "metadata": {},
     "output_type": "execute_result"
    }
   ],
   "source": [
    "df_val = bg_icu[bg_icu['subject_id'].isin(val_subjects)]\n",
    "df_val.head()"
   ]
  },
  {
   "cell_type": "code",
   "execution_count": 21,
   "id": "66f996e8",
   "metadata": {
    "colab": {
     "base_uri": "https://localhost:8080/",
     "height": 206
    },
    "id": "66f996e8",
    "outputId": "4c34d574-9ea7-4036-c31e-d079073afa03"
   },
   "outputs": [
    {
     "data": {
      "text/html": [
       "<div>\n",
       "<style scoped>\n",
       "    .dataframe tbody tr th:only-of-type {\n",
       "        vertical-align: middle;\n",
       "    }\n",
       "\n",
       "    .dataframe tbody tr th {\n",
       "        vertical-align: top;\n",
       "    }\n",
       "\n",
       "    .dataframe thead th {\n",
       "        text-align: right;\n",
       "    }\n",
       "</style>\n",
       "<table border=\"1\" class=\"dataframe\">\n",
       "  <thead>\n",
       "    <tr style=\"text-align: right;\">\n",
       "      <th></th>\n",
       "      <th>subject_id</th>\n",
       "      <th>hadm_id</th>\n",
       "      <th>stay_id</th>\n",
       "      <th>caregiver_id</th>\n",
       "      <th>charttime</th>\n",
       "      <th>storetime</th>\n",
       "      <th>itemid</th>\n",
       "      <th>value</th>\n",
       "      <th>valuenum</th>\n",
       "      <th>valueuom</th>\n",
       "      <th>warning</th>\n",
       "    </tr>\n",
       "  </thead>\n",
       "  <tbody>\n",
       "    <tr>\n",
       "      <th>39</th>\n",
       "      <td>10003400</td>\n",
       "      <td>23559586</td>\n",
       "      <td>38383343</td>\n",
       "      <td>6319.0</td>\n",
       "      <td>2137-08-18 22:00:00</td>\n",
       "      <td>2137-08-18 22:14:00</td>\n",
       "      <td>225664</td>\n",
       "      <td>106.0</td>\n",
       "      <td>106.0</td>\n",
       "      <td>NaN</td>\n",
       "      <td>0</td>\n",
       "    </tr>\n",
       "    <tr>\n",
       "      <th>40</th>\n",
       "      <td>10003400</td>\n",
       "      <td>23559586</td>\n",
       "      <td>38383343</td>\n",
       "      <td>40034.0</td>\n",
       "      <td>2137-08-28 22:00:00</td>\n",
       "      <td>2137-08-29 00:48:00</td>\n",
       "      <td>225664</td>\n",
       "      <td>86.0</td>\n",
       "      <td>86.0</td>\n",
       "      <td>NaN</td>\n",
       "      <td>0</td>\n",
       "    </tr>\n",
       "    <tr>\n",
       "      <th>41</th>\n",
       "      <td>10003400</td>\n",
       "      <td>23559586</td>\n",
       "      <td>38383343</td>\n",
       "      <td>51221.0</td>\n",
       "      <td>2137-08-24 23:00:00</td>\n",
       "      <td>2137-08-25 00:08:00</td>\n",
       "      <td>225664</td>\n",
       "      <td>147.0</td>\n",
       "      <td>147.0</td>\n",
       "      <td>NaN</td>\n",
       "      <td>0</td>\n",
       "    </tr>\n",
       "    <tr>\n",
       "      <th>42</th>\n",
       "      <td>10003400</td>\n",
       "      <td>23559586</td>\n",
       "      <td>38383343</td>\n",
       "      <td>69088.0</td>\n",
       "      <td>2137-08-21 12:00:00</td>\n",
       "      <td>2137-08-21 12:15:00</td>\n",
       "      <td>225664</td>\n",
       "      <td>103.0</td>\n",
       "      <td>103.0</td>\n",
       "      <td>NaN</td>\n",
       "      <td>0</td>\n",
       "    </tr>\n",
       "    <tr>\n",
       "      <th>43</th>\n",
       "      <td>10003400</td>\n",
       "      <td>23559586</td>\n",
       "      <td>38383343</td>\n",
       "      <td>69088.0</td>\n",
       "      <td>2137-08-21 16:00:00</td>\n",
       "      <td>2137-08-21 16:22:00</td>\n",
       "      <td>225664</td>\n",
       "      <td>105.0</td>\n",
       "      <td>105.0</td>\n",
       "      <td>NaN</td>\n",
       "      <td>0</td>\n",
       "    </tr>\n",
       "  </tbody>\n",
       "</table>\n",
       "</div>"
      ],
      "text/plain": [
       "    subject_id   hadm_id   stay_id  caregiver_id           charttime  \\\n",
       "39    10003400  23559586  38383343        6319.0 2137-08-18 22:00:00   \n",
       "40    10003400  23559586  38383343       40034.0 2137-08-28 22:00:00   \n",
       "41    10003400  23559586  38383343       51221.0 2137-08-24 23:00:00   \n",
       "42    10003400  23559586  38383343       69088.0 2137-08-21 12:00:00   \n",
       "43    10003400  23559586  38383343       69088.0 2137-08-21 16:00:00   \n",
       "\n",
       "             storetime  itemid  value  valuenum valueuom  warning  \n",
       "39 2137-08-18 22:14:00  225664  106.0     106.0      NaN        0  \n",
       "40 2137-08-29 00:48:00  225664   86.0      86.0      NaN        0  \n",
       "41 2137-08-25 00:08:00  225664  147.0     147.0      NaN        0  \n",
       "42 2137-08-21 12:15:00  225664  103.0     103.0      NaN        0  \n",
       "43 2137-08-21 16:22:00  225664  105.0     105.0      NaN        0  "
      ]
     },
     "execution_count": 21,
     "metadata": {},
     "output_type": "execute_result"
    }
   ],
   "source": [
    "df_test = bg_icu[bg_icu['subject_id'].isin(test_subjects)]\n",
    "df_test.head()"
   ]
  },
  {
   "cell_type": "code",
   "execution_count": 22,
   "id": "9be0b499",
   "metadata": {
    "colab": {
     "base_uri": "https://localhost:8080/",
     "height": 423
    },
    "id": "9be0b499",
    "outputId": "b14ef498-418e-4083-92cc-1e73fc4d5044"
   },
   "outputs": [
    {
     "data": {
      "text/html": [
       "<div>\n",
       "<style scoped>\n",
       "    .dataframe tbody tr th:only-of-type {\n",
       "        vertical-align: middle;\n",
       "    }\n",
       "\n",
       "    .dataframe tbody tr th {\n",
       "        vertical-align: top;\n",
       "    }\n",
       "\n",
       "    .dataframe thead th {\n",
       "        text-align: right;\n",
       "    }\n",
       "</style>\n",
       "<table border=\"1\" class=\"dataframe\">\n",
       "  <thead>\n",
       "    <tr style=\"text-align: right;\">\n",
       "      <th></th>\n",
       "      <th>subject_id</th>\n",
       "      <th>hadm_id</th>\n",
       "      <th>stay_id</th>\n",
       "      <th>caregiver_id</th>\n",
       "      <th>charttime</th>\n",
       "      <th>storetime</th>\n",
       "      <th>itemid</th>\n",
       "      <th>value</th>\n",
       "      <th>valuenum</th>\n",
       "      <th>valueuom</th>\n",
       "      <th>warning</th>\n",
       "    </tr>\n",
       "  </thead>\n",
       "  <tbody>\n",
       "    <tr>\n",
       "      <th>0</th>\n",
       "      <td>10000032</td>\n",
       "      <td>29079034</td>\n",
       "      <td>39553978</td>\n",
       "      <td>NaN</td>\n",
       "      <td>2180-07-23 21:45:00</td>\n",
       "      <td>2180-07-23 22:30:00</td>\n",
       "      <td>220621</td>\n",
       "      <td>115.0</td>\n",
       "      <td>115.0</td>\n",
       "      <td>mg/dL</td>\n",
       "      <td>1</td>\n",
       "    </tr>\n",
       "    <tr>\n",
       "      <th>2</th>\n",
       "      <td>10000690</td>\n",
       "      <td>25860671</td>\n",
       "      <td>37081114</td>\n",
       "      <td>NaN</td>\n",
       "      <td>2150-11-03 02:56:00</td>\n",
       "      <td>2150-11-03 04:22:00</td>\n",
       "      <td>220621</td>\n",
       "      <td>77.0</td>\n",
       "      <td>77.0</td>\n",
       "      <td>mg/dL</td>\n",
       "      <td>0</td>\n",
       "    </tr>\n",
       "    <tr>\n",
       "      <th>3</th>\n",
       "      <td>10000690</td>\n",
       "      <td>25860671</td>\n",
       "      <td>37081114</td>\n",
       "      <td>NaN</td>\n",
       "      <td>2150-11-04 03:03:00</td>\n",
       "      <td>2150-11-04 03:44:00</td>\n",
       "      <td>220621</td>\n",
       "      <td>84.0</td>\n",
       "      <td>84.0</td>\n",
       "      <td>mg/dL</td>\n",
       "      <td>0</td>\n",
       "    </tr>\n",
       "    <tr>\n",
       "      <th>1</th>\n",
       "      <td>10000690</td>\n",
       "      <td>25860671</td>\n",
       "      <td>37081114</td>\n",
       "      <td>84407.0</td>\n",
       "      <td>2150-11-04 10:00:00</td>\n",
       "      <td>2150-11-04 09:39:00</td>\n",
       "      <td>225664</td>\n",
       "      <td>117.0</td>\n",
       "      <td>117.0</td>\n",
       "      <td>NaN</td>\n",
       "      <td>0</td>\n",
       "    </tr>\n",
       "    <tr>\n",
       "      <th>4</th>\n",
       "      <td>10000690</td>\n",
       "      <td>25860671</td>\n",
       "      <td>37081114</td>\n",
       "      <td>NaN</td>\n",
       "      <td>2150-11-04 17:54:00</td>\n",
       "      <td>2150-11-04 18:41:00</td>\n",
       "      <td>220621</td>\n",
       "      <td>120.0</td>\n",
       "      <td>120.0</td>\n",
       "      <td>mg/dL</td>\n",
       "      <td>1</td>\n",
       "    </tr>\n",
       "    <tr>\n",
       "      <th>...</th>\n",
       "      <td>...</td>\n",
       "      <td>...</td>\n",
       "      <td>...</td>\n",
       "      <td>...</td>\n",
       "      <td>...</td>\n",
       "      <td>...</td>\n",
       "      <td>...</td>\n",
       "      <td>...</td>\n",
       "      <td>...</td>\n",
       "      <td>...</td>\n",
       "      <td>...</td>\n",
       "    </tr>\n",
       "    <tr>\n",
       "      <th>361852</th>\n",
       "      <td>19999840</td>\n",
       "      <td>21033226</td>\n",
       "      <td>38978960</td>\n",
       "      <td>93123.0</td>\n",
       "      <td>2164-09-17 09:00:00</td>\n",
       "      <td>2164-09-17 09:30:00</td>\n",
       "      <td>225664</td>\n",
       "      <td>179.0</td>\n",
       "      <td>179.0</td>\n",
       "      <td>NaN</td>\n",
       "      <td>0</td>\n",
       "    </tr>\n",
       "    <tr>\n",
       "      <th>361864</th>\n",
       "      <td>19999840</td>\n",
       "      <td>21033226</td>\n",
       "      <td>38978960</td>\n",
       "      <td>NaN</td>\n",
       "      <td>2164-09-17 13:13:00</td>\n",
       "      <td>2164-09-17 13:53:00</td>\n",
       "      <td>220621</td>\n",
       "      <td>146.0</td>\n",
       "      <td>146.0</td>\n",
       "      <td>mg/dL</td>\n",
       "      <td>1</td>\n",
       "    </tr>\n",
       "    <tr>\n",
       "      <th>361865</th>\n",
       "      <td>19999840</td>\n",
       "      <td>21033226</td>\n",
       "      <td>38978960</td>\n",
       "      <td>NaN</td>\n",
       "      <td>2164-09-17 13:18:00</td>\n",
       "      <td>2164-09-17 13:28:00</td>\n",
       "      <td>226537</td>\n",
       "      <td>139.0</td>\n",
       "      <td>139.0</td>\n",
       "      <td>mg/dL</td>\n",
       "      <td>1</td>\n",
       "    </tr>\n",
       "    <tr>\n",
       "      <th>361866</th>\n",
       "      <td>19999840</td>\n",
       "      <td>21033226</td>\n",
       "      <td>38978960</td>\n",
       "      <td>NaN</td>\n",
       "      <td>2164-09-17 13:34:00</td>\n",
       "      <td>2164-09-17 13:37:00</td>\n",
       "      <td>226537</td>\n",
       "      <td>275.0</td>\n",
       "      <td>275.0</td>\n",
       "      <td>mg/dL</td>\n",
       "      <td>1</td>\n",
       "    </tr>\n",
       "    <tr>\n",
       "      <th>361867</th>\n",
       "      <td>19999840</td>\n",
       "      <td>21033226</td>\n",
       "      <td>38978960</td>\n",
       "      <td>NaN</td>\n",
       "      <td>2164-09-17 13:39:00</td>\n",
       "      <td>2164-09-17 13:49:00</td>\n",
       "      <td>226537</td>\n",
       "      <td>369.0</td>\n",
       "      <td>369.0</td>\n",
       "      <td>mg/dL</td>\n",
       "      <td>1</td>\n",
       "    </tr>\n",
       "  </tbody>\n",
       "</table>\n",
       "<p>216452 rows × 11 columns</p>\n",
       "</div>"
      ],
      "text/plain": [
       "        subject_id   hadm_id   stay_id  caregiver_id           charttime  \\\n",
       "0         10000032  29079034  39553978           NaN 2180-07-23 21:45:00   \n",
       "2         10000690  25860671  37081114           NaN 2150-11-03 02:56:00   \n",
       "3         10000690  25860671  37081114           NaN 2150-11-04 03:03:00   \n",
       "1         10000690  25860671  37081114       84407.0 2150-11-04 10:00:00   \n",
       "4         10000690  25860671  37081114           NaN 2150-11-04 17:54:00   \n",
       "...            ...       ...       ...           ...                 ...   \n",
       "361852    19999840  21033226  38978960       93123.0 2164-09-17 09:00:00   \n",
       "361864    19999840  21033226  38978960           NaN 2164-09-17 13:13:00   \n",
       "361865    19999840  21033226  38978960           NaN 2164-09-17 13:18:00   \n",
       "361866    19999840  21033226  38978960           NaN 2164-09-17 13:34:00   \n",
       "361867    19999840  21033226  38978960           NaN 2164-09-17 13:39:00   \n",
       "\n",
       "                 storetime  itemid  value  valuenum valueuom  warning  \n",
       "0      2180-07-23 22:30:00  220621  115.0     115.0    mg/dL        1  \n",
       "2      2150-11-03 04:22:00  220621   77.0      77.0    mg/dL        0  \n",
       "3      2150-11-04 03:44:00  220621   84.0      84.0    mg/dL        0  \n",
       "1      2150-11-04 09:39:00  225664  117.0     117.0      NaN        0  \n",
       "4      2150-11-04 18:41:00  220621  120.0     120.0    mg/dL        1  \n",
       "...                    ...     ...    ...       ...      ...      ...  \n",
       "361852 2164-09-17 09:30:00  225664  179.0     179.0      NaN        0  \n",
       "361864 2164-09-17 13:53:00  220621  146.0     146.0    mg/dL        1  \n",
       "361865 2164-09-17 13:28:00  226537  139.0     139.0    mg/dL        1  \n",
       "361866 2164-09-17 13:37:00  226537  275.0     275.0    mg/dL        1  \n",
       "361867 2164-09-17 13:49:00  226537  369.0     369.0    mg/dL        1  \n",
       "\n",
       "[216452 rows x 11 columns]"
      ]
     },
     "execution_count": 22,
     "metadata": {},
     "output_type": "execute_result"
    }
   ],
   "source": [
    "df_train.sort_values(by=['subject_id','hadm_id','charttime'])"
   ]
  },
  {
   "cell_type": "markdown",
   "id": "6b5355bd",
   "metadata": {},
   "source": [
    "### Below we filter out ICU stays that have less than 2 blood glucose measurements, and see the distribution of measurement frequency"
   ]
  },
  {
   "cell_type": "code",
   "execution_count": 23,
   "id": "8f44a4d7",
   "metadata": {
    "colab": {
     "base_uri": "https://localhost:8080/",
     "height": 335
    },
    "id": "8f44a4d7",
    "outputId": "5b2614d6-5064-4c45-a18e-a304ad0e681a"
   },
   "outputs": [
    {
     "data": {
      "text/plain": [
       "count    11063.000000\n",
       "mean        19.565398\n",
       "std         34.489422\n",
       "min          1.000000\n",
       "25%          3.000000\n",
       "50%          9.000000\n",
       "75%         22.000000\n",
       "max        735.000000\n",
       "Name: stay_id, dtype: float64"
      ]
     },
     "execution_count": 23,
     "metadata": {},
     "output_type": "execute_result"
    }
   ],
   "source": [
    "df_train['stay_id'].value_counts().describe()"
   ]
  },
  {
   "cell_type": "code",
   "execution_count": 24,
   "id": "0203779a",
   "metadata": {
    "colab": {
     "base_uri": "https://localhost:8080/",
     "height": 458
    },
    "id": "0203779a",
    "outputId": "0a87f8a4-d7e7-4a01-e850-22658da1e815"
   },
   "outputs": [
    {
     "name": "stderr",
     "output_type": "stream",
     "text": [
      "C:\\Users\\Mashal\\anaconda3\\lib\\site-packages\\seaborn\\_decorators.py:36: FutureWarning: Pass the following variable as a keyword arg: x. From version 0.12, the only valid positional argument will be `data`, and passing other arguments without an explicit keyword will result in an error or misinterpretation.\n",
      "  warnings.warn(\n"
     ]
    },
    {
     "data": {
      "image/png": "[encoded data removed]",
      "text/plain": [
       "<Figure size 640x480 with 1 Axes>"
      ]
     },
     "metadata": {},
     "output_type": "display_data"
    }
   ],
   "source": [
    "# Get counts\n",
    "stay_counts = df_train['stay_id'].value_counts()\n",
    "\n",
    "# Plot histogram of those counts\n",
    "sns.boxplot(stay_counts)  # Optional: adjust bins\n",
    "\n",
    "plt.xlabel('Number of occurrences per stay_id')\n",
    "plt.ylabel('Frequency')\n",
    "plt.title('Distribution of stay_id counts')\n",
    "plt.show()\n"
   ]
  },
  {
   "cell_type": "code",
   "execution_count": 25,
   "id": "605c158f",
   "metadata": {
    "colab": {
     "base_uri": "https://localhost:8080/",
     "height": 458
    },
    "id": "605c158f",
    "outputId": "31e40354-1ebc-40f1-a3e3-4415634d4c57"
   },
   "outputs": [
    {
     "name": "stderr",
     "output_type": "stream",
     "text": [
      "C:\\Users\\Mashal\\anaconda3\\lib\\site-packages\\seaborn\\_decorators.py:36: FutureWarning: Pass the following variable as a keyword arg: x. From version 0.12, the only valid positional argument will be `data`, and passing other arguments without an explicit keyword will result in an error or misinterpretation.\n",
      "  warnings.warn(\n"
     ]
    },
    {
     "data": {
      "image/png": "[encoded data removed]",
      "text/plain": [
       "<Figure size 640x480 with 1 Axes>"
      ]
     },
     "metadata": {},
     "output_type": "display_data"
    }
   ],
   "source": [
    "counts = df_train['stay_id'].value_counts()\n",
    "\n",
    "Q1 = counts.quantile(0.25)\n",
    "Q3 = counts.quantile(0.75)\n",
    "IQR = Q3 - Q1\n",
    "\n",
    "lower_bound = Q1 - 1.5 * IQR\n",
    "upper_bound = Q3 + 1.5 * IQR\n",
    "\n",
    "valid_stays = counts[(counts >= lower_bound) & (counts <= upper_bound)].index\n",
    "\n",
    "df_filtered = df_train[df_train['stay_id'].isin(valid_stays)]\n",
    "# Plot boxplot of those counts\n",
    "sns.boxplot(df_filtered['stay_id'].value_counts())\n",
    "\n",
    "plt.xlabel('Number of occurrences per stay_id')\n",
    "plt.ylabel('Frequency')\n",
    "plt.title('Distribution of stay_id counts')\n",
    "plt.show()"
   ]
  },
  {
   "cell_type": "code",
   "execution_count": 26,
   "id": "b37e0c10",
   "metadata": {
    "colab": {
     "base_uri": "https://localhost:8080/",
     "height": 490
    },
    "id": "b37e0c10",
    "outputId": "ccc4db4f-33ba-4053-d4bc-af01fca77586"
   },
   "outputs": [
    {
     "data": {
      "text/plain": [
       "36066456    735\n",
       "34423873    544\n",
       "35951721    506\n",
       "37564059    479\n",
       "39245279    459\n",
       "           ... \n",
       "30266538      2\n",
       "32080372      2\n",
       "39443886      2\n",
       "32735984      2\n",
       "37769664      2\n",
       "Name: stay_id, Length: 10191, dtype: int64"
      ]
     },
     "execution_count": 26,
     "metadata": {},
     "output_type": "execute_result"
    }
   ],
   "source": [
    "valid_stays = counts[(counts >= 2)].index\n",
    "df_train = df_train[df_train['stay_id'].isin(valid_stays)]\n",
    "df_train['stay_id'].value_counts()"
   ]
  },
  {
   "cell_type": "code",
   "execution_count": 27,
   "id": "fb835c21",
   "metadata": {
    "colab": {
     "base_uri": "https://localhost:8080/",
     "height": 490
    },
    "id": "fb835c21",
    "outputId": "aa8cf0e6-975d-4013-d2a4-53b199d591a1"
   },
   "outputs": [
    {
     "data": {
      "text/plain": [
       "33566920    835\n",
       "39510663    787\n",
       "36915287    728\n",
       "33552034    504\n",
       "31255716    502\n",
       "           ... \n",
       "37831078      2\n",
       "37704002      2\n",
       "32569704      2\n",
       "32361292      2\n",
       "32296053      2\n",
       "Name: stay_id, Length: 3401, dtype: int64"
      ]
     },
     "execution_count": 27,
     "metadata": {},
     "output_type": "execute_result"
    }
   ],
   "source": [
    "counts = df_val['stay_id'].value_counts()\n",
    "valid_stays = counts[(counts >= 2)].index\n",
    "df_val = df_val[df_val['stay_id'].isin(valid_stays)]\n",
    "df_val['stay_id'].value_counts()"
   ]
  },
  {
   "cell_type": "code",
   "execution_count": 28,
   "id": "f8d859b8",
   "metadata": {
    "colab": {
     "base_uri": "https://localhost:8080/",
     "height": 490
    },
    "id": "f8d859b8",
    "outputId": "a318df30-ef1d-4549-b9f3-c1abe6b9f33c"
   },
   "outputs": [
    {
     "data": {
      "text/plain": [
       "38640772    464\n",
       "38606468    451\n",
       "30686497    431\n",
       "32832800    415\n",
       "35027838    369\n",
       "           ... \n",
       "33352784      2\n",
       "38623541      2\n",
       "34509464      2\n",
       "33123054      2\n",
       "30600331      2\n",
       "Name: stay_id, Length: 3392, dtype: int64"
      ]
     },
     "execution_count": 28,
     "metadata": {},
     "output_type": "execute_result"
    }
   ],
   "source": [
    "counts = df_test['stay_id'].value_counts()\n",
    "valid_stays = counts[(counts >= 2)].index\n",
    "df_test = df_test[df_test['stay_id'].isin(valid_stays)]\n",
    "df_test['stay_id'].value_counts()"
   ]
  },
  {
   "cell_type": "code",
   "execution_count": 29,
   "id": "20a72080",
   "metadata": {
    "id": "20a72080"
   },
   "outputs": [],
   "source": [
    "icu_stays = df_train['stay_id'].unique()"
   ]
  },
  {
   "cell_type": "code",
   "execution_count": 30,
   "id": "1039a0af",
   "metadata": {
    "colab": {
     "base_uri": "https://localhost:8080/",
     "height": 490
    },
    "id": "1039a0af",
    "outputId": "7da70551-4563-4191-ee45-c293709decb3"
   },
   "outputs": [
    {
     "data": {
      "text/plain": [
       "36066456    735\n",
       "34423873    544\n",
       "35951721    506\n",
       "37564059    479\n",
       "39245279    459\n",
       "           ... \n",
       "30266538      2\n",
       "32080372      2\n",
       "39443886      2\n",
       "32735984      2\n",
       "37769664      2\n",
       "Name: stay_id, Length: 10191, dtype: int64"
      ]
     },
     "execution_count": 30,
     "metadata": {},
     "output_type": "execute_result"
    }
   ],
   "source": [
    "df_train['stay_id'].value_counts()"
   ]
  },
  {
   "cell_type": "code",
   "execution_count": 31,
   "id": "505e5f69",
   "metadata": {
    "colab": {
     "base_uri": "https://localhost:8080/",
     "height": 423
    },
    "id": "505e5f69",
    "outputId": "d5434cbf-7d01-4b85-b343-33f365d49736"
   },
   "outputs": [
    {
     "data": {
      "text/html": [
       "<div>\n",
       "<style scoped>\n",
       "    .dataframe tbody tr th:only-of-type {\n",
       "        vertical-align: middle;\n",
       "    }\n",
       "\n",
       "    .dataframe tbody tr th {\n",
       "        vertical-align: top;\n",
       "    }\n",
       "\n",
       "    .dataframe thead th {\n",
       "        text-align: right;\n",
       "    }\n",
       "</style>\n",
       "<table border=\"1\" class=\"dataframe\">\n",
       "  <thead>\n",
       "    <tr style=\"text-align: right;\">\n",
       "      <th></th>\n",
       "      <th>subject_id</th>\n",
       "      <th>hadm_id</th>\n",
       "      <th>stay_id</th>\n",
       "      <th>caregiver_id</th>\n",
       "      <th>charttime</th>\n",
       "      <th>storetime</th>\n",
       "      <th>itemid</th>\n",
       "      <th>value</th>\n",
       "      <th>valuenum</th>\n",
       "      <th>valueuom</th>\n",
       "      <th>warning</th>\n",
       "    </tr>\n",
       "  </thead>\n",
       "  <tbody>\n",
       "  </tbody>\n",
       "</table>\n",
       "</div>"
      ],
      "text/plain": [
       "Empty DataFrame\n",
       "Columns: [subject_id, hadm_id, stay_id, caregiver_id, charttime, storetime, itemid, value, valuenum, valueuom, warning]\n",
       "Index: []"
      ]
     },
     "execution_count": 31,
     "metadata": {},
     "output_type": "execute_result"
    }
   ],
   "source": [
    "df_train.reset_index(drop=True)[df_train.reset_index(drop=True)['stay_id']==33566920]"
   ]
  },
  {
   "cell_type": "code",
   "execution_count": 32,
   "id": "43e94f0c",
   "metadata": {
    "id": "43e94f0c",
    "outputId": "670404f8-c7b1-4cbc-8f83-780f480f99cd"
   },
   "outputs": [
    {
     "ename": "NameError",
     "evalue": "name 'df_stay' is not defined",
     "output_type": "error",
     "traceback": [
      "\u001b[1;31m---------------------------------------------------------------------------\u001b[0m",
      "\u001b[1;31mNameError\u001b[0m                                 Traceback (most recent call last)",
      "\u001b[1;32m~\\AppData\\Local\\Temp\\ipykernel_28304\\574106691.py\u001b[0m in \u001b[0;36m<module>\u001b[1;34m\u001b[0m\n\u001b[1;32m----> 1\u001b[1;33m \u001b[0mdf_stay\u001b[0m\u001b[1;33m[\u001b[0m\u001b[1;34m'charttime'\u001b[0m\u001b[1;33m]\u001b[0m\u001b[1;33m.\u001b[0m\u001b[0mastype\u001b[0m\u001b[1;33m(\u001b[0m\u001b[1;34m'int64'\u001b[0m\u001b[1;33m)\u001b[0m\u001b[1;33m\u001b[0m\u001b[1;33m\u001b[0m\u001b[0m\n\u001b[0m",
      "\u001b[1;31mNameError\u001b[0m: name 'df_stay' is not defined"
     ]
    }
   ],
   "source": [
    "df_stay['charttime'].astype('int64')"
   ]
  },
  {
   "cell_type": "markdown",
   "id": "5e82feef",
   "metadata": {
    "id": "5e82feef"
   },
   "source": [
    "### The below cell creates the data points. X train contains rows of 5 measurements in sequence each, with y train value being the following measurement taken directly after, which is to be predicted."
   ]
  },
  {
   "cell_type": "code",
   "execution_count": null,
   "id": "035572ab",
   "metadata": {
    "id": "035572ab"
   },
   "outputs": [],
   "source": [
    "X_test = []\n",
    "y_test = []\n",
    "for stay_id in icu_stays:\n",
    "    # Gets the specific ICU stay data\n",
    "    df_stay = df_test.loc[df_test['stay_id'] == stay_id].sort_values(by=['charttime']).reset_index(drop=True)\n",
    "    for row in df_stay.itertuples():\n",
    "        sequence = []\n",
    "        i = 0\n",
    "        j = row.Index\n",
    "\n",
    "        if df_stay.shape[0] < 6 or df_stay.shape[0] - j >= 6:\n",
    "            # This loop traverses 5 data points or until penultimate dataframe row, whichever comes first,\n",
    "            # and appends all BG values to the sequence\n",
    "            while i < 5 and j < df_stay.shape[0] - 1:\n",
    "                sequence.append(df_stay.at[row.Index + i,'value'])\n",
    "                i += 1\n",
    "                j += 1\n",
    "            if len(sequence) > 0:\n",
    "                X_test.append(sequence)\n",
    "                y_test.append(df_stay.at[row.Index + i,'value'])\n",
    "            # This condition ensures that an icu stay with fewer than 6 measurements is added only once\n",
    "            if df_stay.shape[0] < 6:\n",
    "                break"
   ]
  },
  {
   "cell_type": "code",
   "execution_count": null,
   "id": "13414787",
   "metadata": {
    "id": "13414787"
   },
   "outputs": [],
   "source": [
    "model = tf.keras.Sequential([\n",
    "    tf.keras.layers.Masking(mask_value=0.0, input_shape=(None, 1)),  # allow variable time steps\n",
    "    # Sets hidden and cell state vector shape/size\n",
    "    tf.keras.layers.LSTM(64),\n",
    "#     tf.keras.layers.Dense(32, activation='relu'),\n",
    "    tf.keras.layers.Dropout(0.3),\n",
    "    tf.keras.layers.Dense(1)\n",
    "])\n",
    "\n",
    "# Create an SGD optimizer\n",
    "sgd = tf.keras.optimizers.SGD(\n",
    "        learning_rate=0.01,   # default is 0.01\n",
    "        momentum=0.9,         # 0.0 = vanilla SGD; 0.9 is common\n",
    "        nesterov=False        \n",
    ")\n",
    "\n",
    "# Compile model with SGD\n",
    "model.compile(\n",
    "    loss='mse',\n",
    "    optimizer=sgd,           \n",
    "    metrics=['mae']          # any metrics we care about\n",
    ")\n"
   ]
  },
  {
   "cell_type": "code",
   "execution_count": null,
   "id": "271f7722",
   "metadata": {
    "id": "271f7722"
   },
   "outputs": [],
   "source": [
    "# pad to max length (say 5)\n",
    "X_train = pad_sequences(X_train, maxlen=5, dtype='float32', padding='post')\n",
    "\n",
    "# reshape for LSTM\n",
    "X_train = X_train.reshape((X_train.shape[0], X_train.shape[1], 1))\n",
    "y_train = np.array(y_train, dtype=np.float32)"
   ]
  },
  {
   "cell_type": "code",
   "execution_count": null,
   "id": "88ef6060",
   "metadata": {
    "id": "88ef6060",
    "outputId": "18771d88-0018-4714-ed05-db0d721b091c"
   },
   "outputs": [
    {
     "name": "stdout",
     "output_type": "stream",
     "text": [
      "Epoch 1/10\n",
      "872519/872519 [==============================] - 3076s 4ms/step - loss: 204727.6562 - mae: 46.7486\n",
      "Epoch 2/10\n",
      "872519/872519 [==============================] - 2972s 3ms/step - loss: 4046.0701 - mae: 45.3810\n",
      "Epoch 3/10\n",
      "872519/872519 [==============================] - 3025s 3ms/step - loss: 4043.6011 - mae: 45.3775\n",
      "Epoch 4/10\n",
      "872519/872519 [==============================] - 2946s 3ms/step - loss: 4046.0117 - mae: 45.3933\n",
      "Epoch 5/10\n",
      "872519/872519 [==============================] - 2933s 3ms/step - loss: 4046.0637 - mae: 45.4016\n",
      "Epoch 6/10\n",
      "872519/872519 [==============================] - 3025s 3ms/step - loss: 4048.3232 - mae: 45.4137\n",
      "Epoch 7/10\n",
      "872519/872519 [==============================] - 3047s 3ms/step - loss: 4049.3232 - mae: 45.4207\n",
      "Epoch 8/10\n",
      "872519/872519 [==============================] - 2968s 3ms/step - loss: 4047.0815 - mae: 45.4038\n",
      "Epoch 9/10\n",
      "872519/872519 [==============================] - 2967s 3ms/step - loss: 4049.4353 - mae: 45.4171\n",
      "Epoch 10/10\n",
      "872519/872519 [==============================] - 3006s 3ms/step - loss: 4046.7898 - mae: 45.3942\n",
      "\n",
      "Training completed in 29963.25 seconds.\n"
     ]
    }
   ],
   "source": [
    "import time\n",
    "\n",
    "start_time = time.time()\n",
    "print(start_time)\n",
    "# Fit the model\n",
    "model.fit(X_train, y_train, epochs=10, batch_size=1, verbose=1)\n",
    "\n",
    "end_time = time.time()\n",
    "\n",
    "elapsed_time = end_time - start_time\n",
    "print(f\"\\nTraining completed in {elapsed_time:.2f} seconds.\")"
   ]
  },
  {
   "cell_type": "code",
   "execution_count": null,
   "id": "a842004a",
   "metadata": {
    "id": "a842004a",
    "outputId": "a9e9c46a-06c4-4846-f67c-bd91a0c52097"
   },
   "outputs": [
    {
     "name": "stderr",
     "output_type": "stream",
     "text": [
      "WARNING:absl:Found untraced functions such as lstm_cell_layer_call_fn, lstm_cell_layer_call_and_return_conditional_losses while saving (showing 2 of 2). These functions will not be directly callable after loading.\n"
     ]
    },
    {
     "name": "stdout",
     "output_type": "stream",
     "text": [
      "INFO:tensorflow:Assets written to: 10_epoch_model\\assets\n"
     ]
    },
    {
     "name": "stderr",
     "output_type": "stream",
     "text": [
      "INFO:tensorflow:Assets written to: 10_epoch_model\\assets\n"
     ]
    }
   ],
   "source": [
    "model.save(\"10_epoch_model\")"
   ]
  },
  {
   "cell_type": "code",
   "execution_count": 32,
   "id": "5aa6cd05",
   "metadata": {
    "id": "5aa6cd05"
   },
   "outputs": [],
   "source": [
    "icu_stays = df_test['stay_id'].unique()"
   ]
  },
  {
   "cell_type": "code",
   "execution_count": 33,
   "id": "fa613e9d",
   "metadata": {
    "id": "fa613e9d"
   },
   "outputs": [],
   "source": [
    "X_test = []\n",
    "y_test = []\n",
    "for stay_id in icu_stays:\n",
    "    # Gets the specific ICU stay data\n",
    "    df_stay = df_test.loc[df_test['stay_id'] == stay_id].sort_values(by=['charttime']).reset_index(drop=True)\n",
    "    for row in df_stay.itertuples():\n",
    "        sequence = []\n",
    "        i = 0\n",
    "        j = row.Index\n",
    "\n",
    "        if df_stay.shape[0] < 6 or df_stay.shape[0] - j >= 6:\n",
    "            # This loop traverses 5 data points or until penultimate dataframe row, whichever comes first,\n",
    "            # and appends all BG values to the sequence\n",
    "            while i < 5 and j < df_stay.shape[0] - 1:\n",
    "                sequence.append(df_stay.at[row.Index + i,'value'])\n",
    "                i += 1\n",
    "                j += 1\n",
    "            if len(sequence) > 0:\n",
    "                X_test.append(sequence)\n",
    "                y_test.append(df_stay.at[row.Index + i,'value'])\n",
    "            # This condition ensures that an icu stay with fewer than 6 measurements is added only once\n",
    "            if df_stay.shape[0] < 6:\n",
    "                break"
   ]
  },
  {
   "cell_type": "code",
   "execution_count": 34,
   "id": "c6ad485d",
   "metadata": {},
   "outputs": [
    {
     "name": "stdout",
     "output_type": "stream",
     "text": [
      "Model: \"sequential\"\n",
      "_________________________________________________________________\n",
      " Layer (type)                Output Shape              Param #   \n",
      "=================================================================\n",
      " masking (Masking)           (None, None, 1)           0         \n",
      "                                                                 \n",
      " lstm (LSTM)                 (None, 64)                16896     \n",
      "                                                                 \n",
      " dense (Dense)               (None, 32)                2080      \n",
      "                                                                 \n",
      " dropout (Dropout)           (None, 32)                0         \n",
      "                                                                 \n",
      " dense_1 (Dense)             (None, 1)                 33        \n",
      "                                                                 \n",
      "=================================================================\n",
      "Total params: 19,009\n",
      "Trainable params: 19,009\n",
      "Non-trainable params: 0\n",
      "_________________________________________________________________\n"
     ]
    }
   ],
   "source": [
    "model = tf.keras.models.load_model('10_epoch_model')\n",
    "model.summary()"
   ]
  },
  {
   "cell_type": "markdown",
   "id": "06465f5a",
   "metadata": {
    "id": "06465f5a"
   },
   "source": [
    "## Initial results from using just sequential data as a feature"
   ]
  },
  {
   "cell_type": "code",
   "execution_count": 46,
   "id": "131e1174",
   "metadata": {
    "id": "131e1174",
    "outputId": "43eece95-9014-429b-b761-7775c006fe9d"
   },
   "outputs": [
    {
     "name": "stdout",
     "output_type": "stream",
     "text": [
      "X_test shape: (59211, 5, 1)\n",
      "y_test shape: (59211,)\n",
      "1851/1851 [==============================] - 3s 1ms/step - loss: 3761.9417 - mae: 41.5403\n",
      "Built-in evaluate  MSE: 3761.9417   MAE: 41.5403\n",
      "232/232 [==============================] - 1s 3ms/step\n",
      "\n",
      "Custom metrics\n",
      "  MAE : 41.5403\n",
      "  MSE : 3761.9385\n",
      "  RMSE: 61.3346\n",
      "  R^2  : -0.0221\n"
     ]
    }
   ],
   "source": [
    "X_test = pad_sequences(\n",
    "    X_test,\n",
    "    maxlen=5,\n",
    "    dtype='float32',\n",
    "    padding='post'\n",
    ")\n",
    "X_test = X_test.reshape(-1, 5, 1)\n",
    "y_test = np.array(y_test, dtype=np.float32)\n",
    "\n",
    "print(\"X_test shape:\", X_test.shape)\n",
    "print(\"y_test shape:\", y_test.shape)\n",
    "\n",
    "test_mse, test_mae = model.evaluate(X_test, y_test, verbose=1)\n",
    "print(f\"Built-in evaluate  MSE: {test_mse:.4f}   MAE: {test_mae:.4f}\")\n",
    "\n",
    "y_pred = model.predict(X_test, batch_size=256).ravel()\n",
    "\n",
    "mae = mean_absolute_error(y_test, y_pred)\n",
    "mse = mean_squared_error(y_test, y_pred)         \n",
    "rmse = math.sqrt(mse)                             \n",
    "r2  = r2_score(y_test, y_pred)\n",
    "\n",
    "print(f\"\\nCustom metrics\")\n",
    "print(f\"  MAE : {mae:.4f}\")\n",
    "print(f\"  MSE : {mse:.4f}\")\n",
    "print(f\"  RMSE: {rmse:.4f}\")\n",
    "print(f\"  R^2  : {r2:.4f}\")"
   ]
  }
 ],
 "metadata": {
  "accelerator": "GPU",
  "colab": {
   "gpuType": "T4",
   "provenance": []
  },
  "kernelspec": {
   "display_name": "Python 3 (ipykernel)",
   "language": "python",
   "name": "python3"
  },
  "language_info": {
   "codemirror_mode": {
    "name": "ipython",
    "version": 3
   },
   "file_extension": ".py",
   "mimetype": "text/x-python",
   "name": "python",
   "nbconvert_exporter": "python",
   "pygments_lexer": "ipython3",
   "version": "3.9.13"
  }
 },
 "nbformat": 4,
 "nbformat_minor": 5
}

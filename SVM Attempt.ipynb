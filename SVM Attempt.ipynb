{
 "cells": [
  {
   "cell_type": "code",
   "id": "initial_id",
   "metadata": {
    "collapsed": true,
    "ExecuteTime": {
     "end_time": "2025-06-02T02:39:50.174812Z",
     "start_time": "2025-06-02T02:39:42.801648Z"
    }
   },
   "source": [
    "from tensorflow.python.ops.metrics_impl import sensitivity_at_specificity\n",
    "\n",
    "seed = 3906303"
   ],
   "outputs": [],
   "execution_count": 1
  },
  {
   "metadata": {
    "ExecuteTime": {
     "end_time": "2025-06-02T02:40:27.723921Z",
     "start_time": "2025-06-02T02:40:27.716711Z"
    }
   },
   "cell_type": "code",
   "source": [
    "import numpy as np\n",
    "import pandas as pd\n",
    "import tensorflow as tf\n",
    "import random"
   ],
   "id": "b123a86e3f0c7785",
   "outputs": [],
   "execution_count": 2
  },
  {
   "metadata": {
    "ExecuteTime": {
     "end_time": "2025-06-02T02:40:33.309623Z",
     "start_time": "2025-06-02T02:40:28.185688Z"
    }
   },
   "cell_type": "code",
   "source": [
    "csv_file_path = r\"C:\\Users\\Jannik Ernst\\Desktop\\Semester 1 - 2025\\Programming Project\\CSV FIles\\chartEventsPred.csv\"\n",
    "df = pd.read_csv(csv_file_path)\n",
    "df.head()"
   ],
   "id": "26238b2ac5cdc6f4",
   "outputs": [
    {
     "data": {
      "text/plain": [
       "   subject_id   label            charttime  glucose  next_glucose  mean_last3  \\\n",
       "0    10000690  normal  2150-11-03 02:56:00     77.0          84.0   77.000000   \n",
       "1    10000690  normal  2150-11-04 03:03:00     84.0         117.0   80.500000   \n",
       "2    10000690  normal  2150-11-04 10:00:00    117.0         120.0   92.666667   \n",
       "3    10000690  normal  2150-11-04 17:54:00    120.0         107.0  107.000000   \n",
       "4    10000690  normal  2150-11-05 05:36:00    107.0          97.0  114.666667   \n",
       "\n",
       "   std_last3  trend   BUN  Blood Pressure  Creatinine  \\\n",
       "0        NaN    NaN  20.2        74.93617        0.82   \n",
       "1   4.949747    7.0  20.2        74.93617        0.82   \n",
       "2  21.361960   33.0  20.2        74.93617        0.82   \n",
       "3  19.974984    3.0  20.2        74.93617        0.82   \n",
       "4   6.806859  -13.0  20.2        74.93617        0.82   \n",
       "\n",
       "   Diastolic Blood Pressure  Heart Rate  Hemoglobin  \\\n",
       "0                 60.361702   84.072917      10.175   \n",
       "1                 60.361702   84.072917      10.175   \n",
       "2                 60.361702   84.072917      10.175   \n",
       "3                 60.361702   84.072917      10.175   \n",
       "4                 60.361702   84.072917      10.175   \n",
       "\n",
       "   O2 saturation pulseoxymetry  PTT  Respiratory Rate  Sodium (serum)  \\\n",
       "0                    95.702128  NaN         22.557895           135.2   \n",
       "1                    95.702128  NaN         22.557895           135.2   \n",
       "2                    95.702128  NaN         22.557895           135.2   \n",
       "3                    95.702128  NaN         22.557895           135.2   \n",
       "4                    95.702128  NaN         22.557895           135.2   \n",
       "\n",
       "   Systolic Blood Pressure   WBC  \n",
       "0               122.893617  6.35  \n",
       "1               122.893617  6.35  \n",
       "2               122.893617  6.35  \n",
       "3               122.893617  6.35  \n",
       "4               122.893617  6.35  "
      ],
      "text/html": [
       "<div>\n",
       "<style scoped>\n",
       "    .dataframe tbody tr th:only-of-type {\n",
       "        vertical-align: middle;\n",
       "    }\n",
       "\n",
       "    .dataframe tbody tr th {\n",
       "        vertical-align: top;\n",
       "    }\n",
       "\n",
       "    .dataframe thead th {\n",
       "        text-align: right;\n",
       "    }\n",
       "</style>\n",
       "<table border=\"1\" class=\"dataframe\">\n",
       "  <thead>\n",
       "    <tr style=\"text-align: right;\">\n",
       "      <th></th>\n",
       "      <th>subject_id</th>\n",
       "      <th>label</th>\n",
       "      <th>charttime</th>\n",
       "      <th>glucose</th>\n",
       "      <th>next_glucose</th>\n",
       "      <th>mean_last3</th>\n",
       "      <th>std_last3</th>\n",
       "      <th>trend</th>\n",
       "      <th>BUN</th>\n",
       "      <th>Blood Pressure</th>\n",
       "      <th>Creatinine</th>\n",
       "      <th>Diastolic Blood Pressure</th>\n",
       "      <th>Heart Rate</th>\n",
       "      <th>Hemoglobin</th>\n",
       "      <th>O2 saturation pulseoxymetry</th>\n",
       "      <th>PTT</th>\n",
       "      <th>Respiratory Rate</th>\n",
       "      <th>Sodium (serum)</th>\n",
       "      <th>Systolic Blood Pressure</th>\n",
       "      <th>WBC</th>\n",
       "    </tr>\n",
       "  </thead>\n",
       "  <tbody>\n",
       "    <tr>\n",
       "      <th>0</th>\n",
       "      <td>10000690</td>\n",
       "      <td>normal</td>\n",
       "      <td>2150-11-03 02:56:00</td>\n",
       "      <td>77.0</td>\n",
       "      <td>84.0</td>\n",
       "      <td>77.000000</td>\n",
       "      <td>NaN</td>\n",
       "      <td>NaN</td>\n",
       "      <td>20.2</td>\n",
       "      <td>74.93617</td>\n",
       "      <td>0.82</td>\n",
       "      <td>60.361702</td>\n",
       "      <td>84.072917</td>\n",
       "      <td>10.175</td>\n",
       "      <td>95.702128</td>\n",
       "      <td>NaN</td>\n",
       "      <td>22.557895</td>\n",
       "      <td>135.2</td>\n",
       "      <td>122.893617</td>\n",
       "      <td>6.35</td>\n",
       "    </tr>\n",
       "    <tr>\n",
       "      <th>1</th>\n",
       "      <td>10000690</td>\n",
       "      <td>normal</td>\n",
       "      <td>2150-11-04 03:03:00</td>\n",
       "      <td>84.0</td>\n",
       "      <td>117.0</td>\n",
       "      <td>80.500000</td>\n",
       "      <td>4.949747</td>\n",
       "      <td>7.0</td>\n",
       "      <td>20.2</td>\n",
       "      <td>74.93617</td>\n",
       "      <td>0.82</td>\n",
       "      <td>60.361702</td>\n",
       "      <td>84.072917</td>\n",
       "      <td>10.175</td>\n",
       "      <td>95.702128</td>\n",
       "      <td>NaN</td>\n",
       "      <td>22.557895</td>\n",
       "      <td>135.2</td>\n",
       "      <td>122.893617</td>\n",
       "      <td>6.35</td>\n",
       "    </tr>\n",
       "    <tr>\n",
       "      <th>2</th>\n",
       "      <td>10000690</td>\n",
       "      <td>normal</td>\n",
       "      <td>2150-11-04 10:00:00</td>\n",
       "      <td>117.0</td>\n",
       "      <td>120.0</td>\n",
       "      <td>92.666667</td>\n",
       "      <td>21.361960</td>\n",
       "      <td>33.0</td>\n",
       "      <td>20.2</td>\n",
       "      <td>74.93617</td>\n",
       "      <td>0.82</td>\n",
       "      <td>60.361702</td>\n",
       "      <td>84.072917</td>\n",
       "      <td>10.175</td>\n",
       "      <td>95.702128</td>\n",
       "      <td>NaN</td>\n",
       "      <td>22.557895</td>\n",
       "      <td>135.2</td>\n",
       "      <td>122.893617</td>\n",
       "      <td>6.35</td>\n",
       "    </tr>\n",
       "    <tr>\n",
       "      <th>3</th>\n",
       "      <td>10000690</td>\n",
       "      <td>normal</td>\n",
       "      <td>2150-11-04 17:54:00</td>\n",
       "      <td>120.0</td>\n",
       "      <td>107.0</td>\n",
       "      <td>107.000000</td>\n",
       "      <td>19.974984</td>\n",
       "      <td>3.0</td>\n",
       "      <td>20.2</td>\n",
       "      <td>74.93617</td>\n",
       "      <td>0.82</td>\n",
       "      <td>60.361702</td>\n",
       "      <td>84.072917</td>\n",
       "      <td>10.175</td>\n",
       "      <td>95.702128</td>\n",
       "      <td>NaN</td>\n",
       "      <td>22.557895</td>\n",
       "      <td>135.2</td>\n",
       "      <td>122.893617</td>\n",
       "      <td>6.35</td>\n",
       "    </tr>\n",
       "    <tr>\n",
       "      <th>4</th>\n",
       "      <td>10000690</td>\n",
       "      <td>normal</td>\n",
       "      <td>2150-11-05 05:36:00</td>\n",
       "      <td>107.0</td>\n",
       "      <td>97.0</td>\n",
       "      <td>114.666667</td>\n",
       "      <td>6.806859</td>\n",
       "      <td>-13.0</td>\n",
       "      <td>20.2</td>\n",
       "      <td>74.93617</td>\n",
       "      <td>0.82</td>\n",
       "      <td>60.361702</td>\n",
       "      <td>84.072917</td>\n",
       "      <td>10.175</td>\n",
       "      <td>95.702128</td>\n",
       "      <td>NaN</td>\n",
       "      <td>22.557895</td>\n",
       "      <td>135.2</td>\n",
       "      <td>122.893617</td>\n",
       "      <td>6.35</td>\n",
       "    </tr>\n",
       "  </tbody>\n",
       "</table>\n",
       "</div>"
      ]
     },
     "execution_count": 3,
     "metadata": {},
     "output_type": "execute_result"
    }
   ],
   "execution_count": 3
  },
  {
   "metadata": {
    "ExecuteTime": {
     "end_time": "2025-06-02T02:40:33.384685Z",
     "start_time": "2025-06-02T02:40:33.379008Z"
    }
   },
   "cell_type": "code",
   "source": "df.shape",
   "id": "dad40e6ea1ae5fb7",
   "outputs": [
    {
     "data": {
      "text/plain": [
       "(1050293, 20)"
      ]
     },
     "execution_count": 4,
     "metadata": {},
     "output_type": "execute_result"
    }
   ],
   "execution_count": 4
  },
  {
   "metadata": {
    "ExecuteTime": {
     "end_time": "2025-06-02T02:40:33.610652Z",
     "start_time": "2025-06-02T02:40:33.462851Z"
    }
   },
   "cell_type": "code",
   "source": [
    "df.dropna(inplace=True)\n",
    "df.shape"
   ],
   "id": "4aa7f0d54bd69ae6",
   "outputs": [
    {
     "data": {
      "text/plain": [
       "(982510, 20)"
      ]
     },
     "execution_count": 5,
     "metadata": {},
     "output_type": "execute_result"
    }
   ],
   "execution_count": 5
  },
  {
   "metadata": {
    "ExecuteTime": {
     "end_time": "2025-06-02T02:40:33.663351Z",
     "start_time": "2025-06-02T02:40:33.650613Z"
    }
   },
   "cell_type": "code",
   "source": "df.head()",
   "id": "b8eb6b3da21ce592",
   "outputs": [
    {
     "data": {
      "text/plain": [
       "    subject_id   label            charttime  glucose  next_glucose  \\\n",
       "7     10001217  normal  2157-12-19 22:00:00    145.0         113.0   \n",
       "9     10001725  normal  2110-04-11 18:02:00    146.0         152.0   \n",
       "11    10001884  normal  2131-01-11 06:37:00    140.0         145.0   \n",
       "12    10001884   hyper  2131-01-12 03:34:00    145.0         199.0   \n",
       "13    10001884  normal  2131-01-13 04:29:00    199.0         177.0   \n",
       "\n",
       "    mean_last3  std_last3  trend        BUN  Blood Pressure  Creatinine  \\\n",
       "7   129.000000  22.627417   32.0   9.500000       88.673469    0.450000   \n",
       "9   153.500000  10.606602  -15.0  17.000000       70.062500    0.800000   \n",
       "11  144.000000   5.656854   -8.0  26.785714       90.529412    0.885714   \n",
       "12  144.333333   4.041452    5.0  26.785714       90.529412    0.885714   \n",
       "13  161.333333  32.715949   54.0  26.785714       90.529412    0.885714   \n",
       "\n",
       "    Diastolic Blood Pressure  Heart Rate  Hemoglobin  \\\n",
       "7                  77.720000   86.711538   11.750000   \n",
       "9                  61.187500   79.156250   13.250000   \n",
       "11                 74.669683   70.800000    8.670588   \n",
       "12                 74.669683   70.800000    8.670588   \n",
       "13                 74.669683   70.800000    8.670588   \n",
       "\n",
       "    O2 saturation pulseoxymetry        PTT  Respiratory Rate  Sodium (serum)  \\\n",
       "7                     95.019231  32.700000         19.038462           138.5   \n",
       "9                     98.225806  30.600000         17.531250           139.0   \n",
       "11                    97.648649  58.061765         19.044444           136.5   \n",
       "12                    97.648649  58.061765         19.044444           136.5   \n",
       "13                    97.648649  58.061765         19.044444           136.5   \n",
       "\n",
       "    Systolic Blood Pressure    WBC  \n",
       "7                126.900000  13.70  \n",
       "9                100.406250  18.55  \n",
       "11               129.176471  12.78  \n",
       "12               129.176471  12.78  \n",
       "13               129.176471  12.78  "
      ],
      "text/html": [
       "<div>\n",
       "<style scoped>\n",
       "    .dataframe tbody tr th:only-of-type {\n",
       "        vertical-align: middle;\n",
       "    }\n",
       "\n",
       "    .dataframe tbody tr th {\n",
       "        vertical-align: top;\n",
       "    }\n",
       "\n",
       "    .dataframe thead th {\n",
       "        text-align: right;\n",
       "    }\n",
       "</style>\n",
       "<table border=\"1\" class=\"dataframe\">\n",
       "  <thead>\n",
       "    <tr style=\"text-align: right;\">\n",
       "      <th></th>\n",
       "      <th>subject_id</th>\n",
       "      <th>label</th>\n",
       "      <th>charttime</th>\n",
       "      <th>glucose</th>\n",
       "      <th>next_glucose</th>\n",
       "      <th>mean_last3</th>\n",
       "      <th>std_last3</th>\n",
       "      <th>trend</th>\n",
       "      <th>BUN</th>\n",
       "      <th>Blood Pressure</th>\n",
       "      <th>Creatinine</th>\n",
       "      <th>Diastolic Blood Pressure</th>\n",
       "      <th>Heart Rate</th>\n",
       "      <th>Hemoglobin</th>\n",
       "      <th>O2 saturation pulseoxymetry</th>\n",
       "      <th>PTT</th>\n",
       "      <th>Respiratory Rate</th>\n",
       "      <th>Sodium (serum)</th>\n",
       "      <th>Systolic Blood Pressure</th>\n",
       "      <th>WBC</th>\n",
       "    </tr>\n",
       "  </thead>\n",
       "  <tbody>\n",
       "    <tr>\n",
       "      <th>7</th>\n",
       "      <td>10001217</td>\n",
       "      <td>normal</td>\n",
       "      <td>2157-12-19 22:00:00</td>\n",
       "      <td>145.0</td>\n",
       "      <td>113.0</td>\n",
       "      <td>129.000000</td>\n",
       "      <td>22.627417</td>\n",
       "      <td>32.0</td>\n",
       "      <td>9.500000</td>\n",
       "      <td>88.673469</td>\n",
       "      <td>0.450000</td>\n",
       "      <td>77.720000</td>\n",
       "      <td>86.711538</td>\n",
       "      <td>11.750000</td>\n",
       "      <td>95.019231</td>\n",
       "      <td>32.700000</td>\n",
       "      <td>19.038462</td>\n",
       "      <td>138.5</td>\n",
       "      <td>126.900000</td>\n",
       "      <td>13.70</td>\n",
       "    </tr>\n",
       "    <tr>\n",
       "      <th>9</th>\n",
       "      <td>10001725</td>\n",
       "      <td>normal</td>\n",
       "      <td>2110-04-11 18:02:00</td>\n",
       "      <td>146.0</td>\n",
       "      <td>152.0</td>\n",
       "      <td>153.500000</td>\n",
       "      <td>10.606602</td>\n",
       "      <td>-15.0</td>\n",
       "      <td>17.000000</td>\n",
       "      <td>70.062500</td>\n",
       "      <td>0.800000</td>\n",
       "      <td>61.187500</td>\n",
       "      <td>79.156250</td>\n",
       "      <td>13.250000</td>\n",
       "      <td>98.225806</td>\n",
       "      <td>30.600000</td>\n",
       "      <td>17.531250</td>\n",
       "      <td>139.0</td>\n",
       "      <td>100.406250</td>\n",
       "      <td>18.55</td>\n",
       "    </tr>\n",
       "    <tr>\n",
       "      <th>11</th>\n",
       "      <td>10001884</td>\n",
       "      <td>normal</td>\n",
       "      <td>2131-01-11 06:37:00</td>\n",
       "      <td>140.0</td>\n",
       "      <td>145.0</td>\n",
       "      <td>144.000000</td>\n",
       "      <td>5.656854</td>\n",
       "      <td>-8.0</td>\n",
       "      <td>26.785714</td>\n",
       "      <td>90.529412</td>\n",
       "      <td>0.885714</td>\n",
       "      <td>74.669683</td>\n",
       "      <td>70.800000</td>\n",
       "      <td>8.670588</td>\n",
       "      <td>97.648649</td>\n",
       "      <td>58.061765</td>\n",
       "      <td>19.044444</td>\n",
       "      <td>136.5</td>\n",
       "      <td>129.176471</td>\n",
       "      <td>12.78</td>\n",
       "    </tr>\n",
       "    <tr>\n",
       "      <th>12</th>\n",
       "      <td>10001884</td>\n",
       "      <td>hyper</td>\n",
       "      <td>2131-01-12 03:34:00</td>\n",
       "      <td>145.0</td>\n",
       "      <td>199.0</td>\n",
       "      <td>144.333333</td>\n",
       "      <td>4.041452</td>\n",
       "      <td>5.0</td>\n",
       "      <td>26.785714</td>\n",
       "      <td>90.529412</td>\n",
       "      <td>0.885714</td>\n",
       "      <td>74.669683</td>\n",
       "      <td>70.800000</td>\n",
       "      <td>8.670588</td>\n",
       "      <td>97.648649</td>\n",
       "      <td>58.061765</td>\n",
       "      <td>19.044444</td>\n",
       "      <td>136.5</td>\n",
       "      <td>129.176471</td>\n",
       "      <td>12.78</td>\n",
       "    </tr>\n",
       "    <tr>\n",
       "      <th>13</th>\n",
       "      <td>10001884</td>\n",
       "      <td>normal</td>\n",
       "      <td>2131-01-13 04:29:00</td>\n",
       "      <td>199.0</td>\n",
       "      <td>177.0</td>\n",
       "      <td>161.333333</td>\n",
       "      <td>32.715949</td>\n",
       "      <td>54.0</td>\n",
       "      <td>26.785714</td>\n",
       "      <td>90.529412</td>\n",
       "      <td>0.885714</td>\n",
       "      <td>74.669683</td>\n",
       "      <td>70.800000</td>\n",
       "      <td>8.670588</td>\n",
       "      <td>97.648649</td>\n",
       "      <td>58.061765</td>\n",
       "      <td>19.044444</td>\n",
       "      <td>136.5</td>\n",
       "      <td>129.176471</td>\n",
       "      <td>12.78</td>\n",
       "    </tr>\n",
       "  </tbody>\n",
       "</table>\n",
       "</div>"
      ]
     },
     "execution_count": 6,
     "metadata": {},
     "output_type": "execute_result"
    }
   ],
   "execution_count": 6
  },
  {
   "metadata": {
    "ExecuteTime": {
     "end_time": "2025-06-02T02:40:34.057704Z",
     "start_time": "2025-06-02T02:40:33.822722Z"
    }
   },
   "cell_type": "code",
   "source": [
    "# Drop outliers of next_glucose and glucose:\n",
    "df = df[(df['next_glucose'] >= 10) & (df['next_glucose'] <= 2656)]\n",
    "df = df[(df['glucose'] >= 10) & (df['glucose'] <= 2656)]\n",
    "df.shape"
   ],
   "id": "ddfe511299d5eb8e",
   "outputs": [
    {
     "data": {
      "text/plain": [
       "(982510, 20)"
      ]
     },
     "execution_count": 7,
     "metadata": {},
     "output_type": "execute_result"
    }
   ],
   "execution_count": 7
  },
  {
   "metadata": {
    "ExecuteTime": {
     "end_time": "2025-06-02T02:40:37.823223Z",
     "start_time": "2025-06-02T02:40:34.149468Z"
    }
   },
   "cell_type": "code",
   "source": [
    "# Check the distribution of glucose - log scale\n",
    "import matplotlib.pyplot as plt\n",
    "import seaborn as sns\n",
    "plt.figure(figsize=(10, 6))\n",
    "sns.histplot(df['next_glucose'], bins=50, kde=True)\n",
    "plt.title('Distribution of Glucose Levels')\n",
    "plt.xlabel('Glucose Level')\n",
    "plt.ylabel('Frequency')\n",
    "plt.show()"
   ],
   "id": "d9b903dc050b7b9f",
   "outputs": [
    {
     "data": {
      "text/plain": [
       "<Figure size 1000x600 with 1 Axes>"
      ],
      "image/png": "[encoded data removed]"
     },
     "metadata": {},
     "output_type": "display_data"
    }
   ],
   "execution_count": 8
  },
  {
   "metadata": {
    "ExecuteTime": {
     "end_time": "2025-06-02T02:40:37.852177Z",
     "start_time": "2025-06-02T02:40:37.842298Z"
    }
   },
   "cell_type": "code",
   "source": [
    "# Check what the minimum next_glucose value is\n",
    "min_next_glucose = df['next_glucose'].min()\n",
    "print(f'Minimum next_glucose value: {min_next_glucose}')\n",
    "print(f'Num. of min value occurrences: {len(df[df[\"next_glucose\"] == min_next_glucose])}')"
   ],
   "id": "7e02e890da46e752",
   "outputs": [
    {
     "name": "stdout",
     "output_type": "stream",
     "text": [
      "Minimum next_glucose value: 20.0\n",
      "Num. of min value occurrences: 42\n"
     ]
    }
   ],
   "execution_count": 9
  },
  {
   "metadata": {
    "ExecuteTime": {
     "end_time": "2025-06-02T02:40:37.906085Z",
     "start_time": "2025-06-02T02:40:37.897383Z"
    }
   },
   "cell_type": "code",
   "source": [
    "# Check what the maximum next_glucose value is\n",
    "max_next_glucose = df['next_glucose'].max()\n",
    "print(f'Minimum next_glucose value: {max_next_glucose}')\n",
    "print(f'Num. of min value occurrences: {len(df[df[\"next_glucose\"] == max_next_glucose])}')"
   ],
   "id": "69f401a0c1619108",
   "outputs": [
    {
     "name": "stdout",
     "output_type": "stream",
     "text": [
      "Minimum next_glucose value: 1000.0\n",
      "Num. of min value occurrences: 2\n"
     ]
    }
   ],
   "execution_count": 10
  },
  {
   "metadata": {
    "ExecuteTime": {
     "end_time": "2025-06-02T02:40:39.378959Z",
     "start_time": "2025-06-02T02:40:37.973771Z"
    }
   },
   "cell_type": "code",
   "source": [
    "# Box plot to visualize the distribution of next_glucose\n",
    "plt.figure(figsize=(10, 6))\n",
    "sns.boxplot(x=df['next_glucose'])\n",
    "plt.title('Box Plot of Next Glucose Levels')\n",
    "plt.xlabel('Next Glucose Level')\n",
    "plt.show()"
   ],
   "id": "18f361d5a2e4b09",
   "outputs": [
    {
     "data": {
      "text/plain": [
       "<Figure size 1000x600 with 1 Axes>"
      ],
      "image/png": "[encoded data removed]"
     },
     "metadata": {},
     "output_type": "display_data"
    }
   ],
   "execution_count": 11
  },
  {
   "metadata": {
    "ExecuteTime": {
     "end_time": "2025-06-02T02:40:39.521439Z",
     "start_time": "2025-06-02T02:40:39.394297Z"
    }
   },
   "cell_type": "code",
   "source": [
    "# Remove outliers based on the box plot\n",
    "Q1 = df['next_glucose'].quantile(0.25)\n",
    "Q3 = df['next_glucose'].quantile(0.75)\n",
    "IQR = Q3 - Q1\n",
    "df = df[(df['next_glucose'] >= Q1 - 1.5 * IQR) & (df['next_glucose'] <= Q3 + 1.5 * IQR)]\n",
    "df.shape"
   ],
   "id": "216c2a6f79b5153b",
   "outputs": [
    {
     "data": {
      "text/plain": [
       "(929491, 20)"
      ]
     },
     "execution_count": 12,
     "metadata": {},
     "output_type": "execute_result"
    }
   ],
   "execution_count": 12
  },
  {
   "metadata": {
    "ExecuteTime": {
     "end_time": "2025-06-02T02:40:46.862406Z",
     "start_time": "2025-06-02T02:40:39.540684Z"
    }
   },
   "cell_type": "code",
   "source": [
    "# check distribution of glucose again after removing outliers\n",
    "plt.figure(figsize=(10, 6))\n",
    "sns.histplot(df['next_glucose'], bins=50, kde=True)\n",
    "plt.title('Distribution of Glucose Levels After Removing Outliers')\n",
    "plt.xlabel('Glucose Level')\n",
    "plt.ylabel('Frequency')\n",
    "plt.show()"
   ],
   "id": "406577ee224aa1db",
   "outputs": [
    {
     "data": {
      "text/plain": [
       "<Figure size 1000x600 with 1 Axes>"
      ],
      "image/png": "[encoded data removed]"
     },
     "metadata": {},
     "output_type": "display_data"
    }
   ],
   "execution_count": 13
  },
  {
   "metadata": {
    "ExecuteTime": {
     "end_time": "2025-06-02T02:40:46.936522Z",
     "start_time": "2025-06-02T02:40:46.887194Z"
    }
   },
   "cell_type": "code",
   "source": [
    "# Check num of unique patients\n",
    "df['subject_id'].nunique()\n",
    "print(len(df['subject_id'].unique()))"
   ],
   "id": "bfbb4e2a5e199b4c",
   "outputs": [
    {
     "name": "stdout",
     "output_type": "stream",
     "text": [
      "35189\n"
     ]
    }
   ],
   "execution_count": 14
  },
  {
   "metadata": {
    "ExecuteTime": {
     "end_time": "2025-06-02T02:40:47.155767Z",
     "start_time": "2025-06-02T02:40:46.960516Z"
    }
   },
   "cell_type": "code",
   "source": [
    "## Do svr on the data\n",
    "from sklearn.svm import SVR\n",
    "from sklearn.model_selection import train_test_split\n",
    "from sklearn.metrics import mean_squared_error, root_mean_squared_error\n",
    "from sklearn.preprocessing import StandardScaler"
   ],
   "id": "2b0236a297061ee7",
   "outputs": [],
   "execution_count": 15
  },
  {
   "metadata": {},
   "cell_type": "markdown",
   "source": "",
   "id": "e7c223f96862609f"
  },
  {
   "metadata": {
    "ExecuteTime": {
     "end_time": "2025-06-02T02:40:47.171778Z",
     "start_time": "2025-06-02T02:40:47.167949Z"
    }
   },
   "cell_type": "code",
   "source": [
    "# # divide data by label, i.e. into hypo, hyper, normal\n",
    "# hypo_df = df[df['label'] == 'hypo']\n",
    "# hyper_df = df[df['label'] == 'hyper']\n",
    "# normal_df = df[df['label'] == 'normal']\n",
    "# print(f\"Hypo: {len(hypo_df)}, Hyper: {len(hyper_df)}, Normal: {len(normal_df)}\")"
   ],
   "id": "dbc8f0741ad71251",
   "outputs": [],
   "execution_count": 16
  },
  {
   "metadata": {
    "ExecuteTime": {
     "end_time": "2025-06-02T02:40:47.188370Z",
     "start_time": "2025-06-02T02:40:47.184351Z"
    }
   },
   "cell_type": "code",
   "source": [
    "# # check number of total rows\n",
    "# rows = len(df)\n",
    "# rows = rows * 0.035\n",
    "# rows_per_label = rows / 3\n",
    "# print(f\"Total rows: {rows}, Rows per label: {rows_per_label}\")"
   ],
   "id": "b137812534d6f361",
   "outputs": [],
   "execution_count": 17
  },
  {
   "metadata": {
    "ExecuteTime": {
     "end_time": "2025-06-02T02:40:47.206550Z",
     "start_time": "2025-06-02T02:40:47.203008Z"
    }
   },
   "cell_type": "code",
   "source": [
    "# # now take random sample of rows_per_label from each label\n",
    "# hypo_sample = hypo_df.sample(n=int(rows_per_label), random_state=seed)\n",
    "# hyper_sample = hyper_df.sample(n=int(rows_per_label), random_state=seed)\n",
    "# normal_sample = normal_df.sample(n=int(rows_per_label), random_state=seed)"
   ],
   "id": "f7558c9cfb0389e0",
   "outputs": [],
   "execution_count": 18
  },
  {
   "metadata": {
    "ExecuteTime": {
     "end_time": "2025-06-02T02:40:47.222550Z",
     "start_time": "2025-06-02T02:40:47.218994Z"
    }
   },
   "cell_type": "code",
   "source": [
    "# # recombine the samples into one DataFrame and shuffle\n",
    "# df_sample = pd.concat([hypo_sample, hyper_sample, normal_sample]).sample(frac=1, random_state=seed).reset_index(drop=True)\n",
    "# df_sample.head()"
   ],
   "id": "dcab2710ab256257",
   "outputs": [],
   "execution_count": 19
  },
  {
   "metadata": {
    "ExecuteTime": {
     "end_time": "2025-06-02T02:40:47.329403Z",
     "start_time": "2025-06-02T02:40:47.233523Z"
    }
   },
   "cell_type": "code",
   "source": [
    "# df_sample.shape\n",
    "df_sample = df.copy()  # Use the entire dataset for now\n",
    "df_sample = df_sample.sample(frac=0.1, random_state=seed)  # Sample 10% of the data for faster processing"
   ],
   "id": "75dc3cae6570b338",
   "outputs": [],
   "execution_count": 20
  },
  {
   "metadata": {
    "ExecuteTime": {
     "end_time": "2025-06-02T02:40:47.362805Z",
     "start_time": "2025-06-02T02:40:47.345865Z"
    }
   },
   "cell_type": "code",
   "source": [
    "# check the number of each patient type - hypo, hyper, normal\n",
    "df_sample['label'].value_counts()\n",
    "print(df_sample['label'].value_counts())"
   ],
   "id": "a675470c46a11c1",
   "outputs": [
    {
     "name": "stdout",
     "output_type": "stream",
     "text": [
      "label\n",
      "normal    78984\n",
      "hyper     12754\n",
      "hypo       1211\n",
      "Name: count, dtype: int64\n"
     ]
    }
   ],
   "execution_count": 21
  },
  {
   "metadata": {
    "ExecuteTime": {
     "end_time": "2025-06-02T02:41:45.686224Z",
     "start_time": "2025-06-02T02:41:45.671829Z"
    }
   },
   "cell_type": "code",
   "source": [
    "import pandas as pd\n",
    "import numpy as np\n",
    "\n",
    "# Step 1: Count label frequencies\n",
    "label_counts = df_sample['label'].value_counts()\n",
    "\n",
    "# Step 2: Compute inverse frequency weights\n",
    "inv_freq = 1.0 / label_counts\n",
    "\n",
    "# Step 3: Map sample weights to each row\n",
    "df_sample['sample_weight'] = df_sample['label'].map(inv_freq)\n",
    "\n",
    "# Step 4 (optional): Normalize to keep weights in a similar scale\n",
    "df_sample['sample_weight'] *= len(df_sample) / df_sample['sample_weight'].sum()\n"
   ],
   "id": "2340450ed11a959c",
   "outputs": [],
   "execution_count": 25
  },
  {
   "metadata": {
    "ExecuteTime": {
     "end_time": "2025-06-02T02:42:28.250883Z",
     "start_time": "2025-06-02T02:42:28.211194Z"
    }
   },
   "cell_type": "code",
   "source": [
    "# Split into train test\n",
    "\n",
    "X = df_sample.drop(columns=['subject_id', 'next_glucose', 'label', 'charttime'])\n",
    "y = df_sample['next_glucose']\n",
    "X_train, X_test, y_train, y_test = train_test_split(X, y, test_size=0.2, random_state=seed)\n",
    "X_train.shape"
   ],
   "id": "541c75200ee98622",
   "outputs": [
    {
     "data": {
      "text/plain": [
       "(74359, 17)"
      ]
     },
     "execution_count": 29,
     "metadata": {},
     "output_type": "execute_result"
    }
   ],
   "execution_count": 29
  },
  {
   "metadata": {
    "ExecuteTime": {
     "end_time": "2025-06-02T02:41:54.997796Z",
     "start_time": "2025-06-02T02:41:54.931818Z"
    }
   },
   "cell_type": "code",
   "source": [
    "from sklearn.preprocessing import StandardScaler\n",
    "\n",
    "# Step 1: Separate sample weights\n",
    "sample_weight_train = X_train['sample_weight'].values\n",
    "sample_weight_test = X_test['sample_weight'].values\n",
    "\n",
    "# Step 2: Drop sample_weight from the features\n",
    "X_train_features = X_train.drop(columns=['sample_weight'])\n",
    "X_test_features = X_test.drop(columns=['sample_weight'])\n",
    "\n",
    "# Step 3: Scale features only\n",
    "scaler = StandardScaler()\n",
    "X_train_scaled = scaler.fit_transform(X_train_features)\n",
    "X_test_scaled = scaler.transform(X_test_features)\n",
    "X_train_scaled[:5]"
   ],
   "id": "ea541c528db0e2ae",
   "outputs": [
    {
     "data": {
      "text/plain": [
       "array([[-1.28839325e-01,  1.62446487e-01, -3.22618756e-01,\n",
       "        -6.93917914e-01, -1.10074245e+00, -4.60741149e-01,\n",
       "        -8.49164751e-01, -1.66064224e-01,  6.43817755e-01,\n",
       "        -1.16610033e-02, -1.18817775e+00,  1.66270333e+00,\n",
       "        -3.45157681e-01,  5.65651943e-01, -8.23237833e-01,\n",
       "        -6.01823886e-01],\n",
       "       [ 1.01937509e+00,  3.03272830e+00,  2.38831176e+00,\n",
       "        -2.81397473e+00,  1.52521890e+00, -7.84438830e-01,\n",
       "         1.27232345e+00, -1.23713377e+00, -1.61142247e+00,\n",
       "        -7.28206065e-01,  1.61174690e-01, -9.84337628e-02,\n",
       "        -1.59158226e+00, -1.27740434e+00,  1.20678239e+00,\n",
       "        -5.20458915e-01],\n",
       "       [-1.62692844e-02,  6.34712520e-02, -8.16687620e-01,\n",
       "        -1.44273553e-01, -6.78949664e-01, -6.40236660e-01,\n",
       "        -7.25595156e-01, -9.13488526e-01, -2.20570162e-01,\n",
       "        -3.93180225e-01,  7.70347981e-01,  5.47473144e-02,\n",
       "        -8.39621137e-01,  1.42381208e+00,  1.21481398e+00,\n",
       "        -3.52314398e-01],\n",
       "       [-8.38113090e-02, -1.90081105e-02, -8.16687620e-01,\n",
       "        -1.70447094e-01, -1.24731544e+00, -9.02704287e-01,\n",
       "        -1.34013323e+00, -5.79218967e-01,  1.25858578e+00,\n",
       "        -8.54011686e-01,  8.22273425e-01, -5.60470640e-01,\n",
       "         1.49152562e+00, -1.08326217e+00, -1.63417265e+00,\n",
       "        -6.21140750e-01],\n",
       "       [-9.16829613e-01, -9.67520780e-01, -6.70081717e-01,\n",
       "         9.12883155e-02, -4.21980523e-01, -5.14439881e-01,\n",
       "        -1.05624567e+00,  2.26100226e-01, -1.04011547e+00,\n",
       "        -1.37885294e+00,  1.11955000e-01, -2.80691299e-03,\n",
       "         2.08161247e+00, -2.41660869e-01, -8.26459531e-01,\n",
       "        -9.59829758e-01]])"
      ]
     },
     "execution_count": 28,
     "metadata": {},
     "output_type": "execute_result"
    }
   ],
   "execution_count": 28
  },
  {
   "metadata": {
    "ExecuteTime": {
     "end_time": "2025-06-02T02:43:14.423889Z",
     "start_time": "2025-06-02T02:43:14.409061Z"
    }
   },
   "cell_type": "code",
   "source": "sample_weight_train[:5]",
   "id": "79f781cf7bb3771c",
   "outputs": [
    {
     "data": {
      "text/plain": [
       "array([0.39226932, 2.42927709, 0.39226932, 0.39226932, 0.39226932])"
      ]
     },
     "execution_count": 31,
     "metadata": {},
     "output_type": "execute_result"
    }
   ],
   "execution_count": 31
  },
  {
   "metadata": {
    "ExecuteTime": {
     "end_time": "2025-06-02T02:50:06.078972Z",
     "start_time": "2025-06-02T02:44:04.526676Z"
    }
   },
   "cell_type": "code",
   "source": [
    "# Train the SVR model\n",
    "svr = SVR(kernel='rbf', C=1.0, epsilon=0.1)\n",
    "svr.fit(X_train_scaled, y_train, sample_weight=sample_weight_train)"
   ],
   "id": "4de08d2dd6b19df3",
   "outputs": [
    {
     "data": {
      "text/plain": [
       "SVR()"
      ],
      "text/html": [
       "<style>#sk-container-id-1 {\n",
       "  /* Definition of color scheme common for light and dark mode */\n",
       "  --sklearn-color-text: #000;\n",
       "  --sklearn-color-text-muted: #666;\n",
       "  --sklearn-color-line: gray;\n",
       "  /* Definition of color scheme for unfitted estimators */\n",
       "  --sklearn-color-unfitted-level-0: #fff5e6;\n",
       "  --sklearn-color-unfitted-level-1: #f6e4d2;\n",
       "  --sklearn-color-unfitted-level-2: #ffe0b3;\n",
       "  --sklearn-color-unfitted-level-3: chocolate;\n",
       "  /* Definition of color scheme for fitted estimators */\n",
       "  --sklearn-color-fitted-level-0: #f0f8ff;\n",
       "  --sklearn-color-fitted-level-1: #d4ebff;\n",
       "  --sklearn-color-fitted-level-2: #b3dbfd;\n",
       "  --sklearn-color-fitted-level-3: cornflowerblue;\n",
       "\n",
       "  /* Specific color for light theme */\n",
       "  --sklearn-color-text-on-default-background: var(--sg-text-color, var(--theme-code-foreground, var(--jp-content-font-color1, black)));\n",
       "  --sklearn-color-background: var(--sg-background-color, var(--theme-background, var(--jp-layout-color0, white)));\n",
       "  --sklearn-color-border-box: var(--sg-text-color, var(--theme-code-foreground, var(--jp-content-font-color1, black)));\n",
       "  --sklearn-color-icon: #696969;\n",
       "\n",
       "  @media (prefers-color-scheme: dark) {\n",
       "    /* Redefinition of color scheme for dark theme */\n",
       "    --sklearn-color-text-on-default-background: var(--sg-text-color, var(--theme-code-foreground, var(--jp-content-font-color1, white)));\n",
       "    --sklearn-color-background: var(--sg-background-color, var(--theme-background, var(--jp-layout-color0, #111)));\n",
       "    --sklearn-color-border-box: var(--sg-text-color, var(--theme-code-foreground, var(--jp-content-font-color1, white)));\n",
       "    --sklearn-color-icon: #878787;\n",
       "  }\n",
       "}\n",
       "\n",
       "#sk-container-id-1 {\n",
       "  color: var(--sklearn-color-text);\n",
       "}\n",
       "\n",
       "#sk-container-id-1 pre {\n",
       "  padding: 0;\n",
       "}\n",
       "\n",
       "#sk-container-id-1 input.sk-hidden--visually {\n",
       "  border: 0;\n",
       "  clip: rect(1px 1px 1px 1px);\n",
       "  clip: rect(1px, 1px, 1px, 1px);\n",
       "  height: 1px;\n",
       "  margin: -1px;\n",
       "  overflow: hidden;\n",
       "  padding: 0;\n",
       "  position: absolute;\n",
       "  width: 1px;\n",
       "}\n",
       "\n",
       "#sk-container-id-1 div.sk-dashed-wrapped {\n",
       "  border: 1px dashed var(--sklearn-color-line);\n",
       "  margin: 0 0.4em 0.5em 0.4em;\n",
       "  box-sizing: border-box;\n",
       "  padding-bottom: 0.4em;\n",
       "  background-color: var(--sklearn-color-background);\n",
       "}\n",
       "\n",
       "#sk-container-id-1 div.sk-container {\n",
       "  /* jupyter's `normalize.less` sets `[hidden] { display: none; }`\n",
       "     but bootstrap.min.css set `[hidden] { display: none !important; }`\n",
       "     so we also need the `!important` here to be able to override the\n",
       "     default hidden behavior on the sphinx rendered scikit-learn.org.\n",
       "     See: https://github.com/scikit-learn/scikit-learn/issues/21755 */\n",
       "  display: inline-block !important;\n",
       "  position: relative;\n",
       "}\n",
       "\n",
       "#sk-container-id-1 div.sk-text-repr-fallback {\n",
       "  display: none;\n",
       "}\n",
       "\n",
       "div.sk-parallel-item,\n",
       "div.sk-serial,\n",
       "div.sk-item {\n",
       "  /* draw centered vertical line to link estimators */\n",
       "  background-image: linear-gradient(var(--sklearn-color-text-on-default-background), var(--sklearn-color-text-on-default-background));\n",
       "  background-size: 2px 100%;\n",
       "  background-repeat: no-repeat;\n",
       "  background-position: center center;\n",
       "}\n",
       "\n",
       "/* Parallel-specific style estimator block */\n",
       "\n",
       "#sk-container-id-1 div.sk-parallel-item::after {\n",
       "  content: \"\";\n",
       "  width: 100%;\n",
       "  border-bottom: 2px solid var(--sklearn-color-text-on-default-background);\n",
       "  flex-grow: 1;\n",
       "}\n",
       "\n",
       "#sk-container-id-1 div.sk-parallel {\n",
       "  display: flex;\n",
       "  align-items: stretch;\n",
       "  justify-content: center;\n",
       "  background-color: var(--sklearn-color-background);\n",
       "  position: relative;\n",
       "}\n",
       "\n",
       "#sk-container-id-1 div.sk-parallel-item {\n",
       "  display: flex;\n",
       "  flex-direction: column;\n",
       "}\n",
       "\n",
       "#sk-container-id-1 div.sk-parallel-item:first-child::after {\n",
       "  align-self: flex-end;\n",
       "  width: 50%;\n",
       "}\n",
       "\n",
       "#sk-container-id-1 div.sk-parallel-item:last-child::after {\n",
       "  align-self: flex-start;\n",
       "  width: 50%;\n",
       "}\n",
       "\n",
       "#sk-container-id-1 div.sk-parallel-item:only-child::after {\n",
       "  width: 0;\n",
       "}\n",
       "\n",
       "/* Serial-specific style estimator block */\n",
       "\n",
       "#sk-container-id-1 div.sk-serial {\n",
       "  display: flex;\n",
       "  flex-direction: column;\n",
       "  align-items: center;\n",
       "  background-color: var(--sklearn-color-background);\n",
       "  padding-right: 1em;\n",
       "  padding-left: 1em;\n",
       "}\n",
       "\n",
       "\n",
       "/* Toggleable style: style used for estimator/Pipeline/ColumnTransformer box that is\n",
       "clickable and can be expanded/collapsed.\n",
       "- Pipeline and ColumnTransformer use this feature and define the default style\n",
       "- Estimators will overwrite some part of the style using the `sk-estimator` class\n",
       "*/\n",
       "\n",
       "/* Pipeline and ColumnTransformer style (default) */\n",
       "\n",
       "#sk-container-id-1 div.sk-toggleable {\n",
       "  /* Default theme specific background. It is overwritten whether we have a\n",
       "  specific estimator or a Pipeline/ColumnTransformer */\n",
       "  background-color: var(--sklearn-color-background);\n",
       "}\n",
       "\n",
       "/* Toggleable label */\n",
       "#sk-container-id-1 label.sk-toggleable__label {\n",
       "  cursor: pointer;\n",
       "  display: flex;\n",
       "  width: 100%;\n",
       "  margin-bottom: 0;\n",
       "  padding: 0.5em;\n",
       "  box-sizing: border-box;\n",
       "  text-align: center;\n",
       "  align-items: start;\n",
       "  justify-content: space-between;\n",
       "  gap: 0.5em;\n",
       "}\n",
       "\n",
       "#sk-container-id-1 label.sk-toggleable__label .caption {\n",
       "  font-size: 0.6rem;\n",
       "  font-weight: lighter;\n",
       "  color: var(--sklearn-color-text-muted);\n",
       "}\n",
       "\n",
       "#sk-container-id-1 label.sk-toggleable__label-arrow:before {\n",
       "  /* Arrow on the left of the label */\n",
       "  content: \"▸\";\n",
       "  float: left;\n",
       "  margin-right: 0.25em;\n",
       "  color: var(--sklearn-color-icon);\n",
       "}\n",
       "\n",
       "#sk-container-id-1 label.sk-toggleable__label-arrow:hover:before {\n",
       "  color: var(--sklearn-color-text);\n",
       "}\n",
       "\n",
       "/* Toggleable content - dropdown */\n",
       "\n",
       "#sk-container-id-1 div.sk-toggleable__content {\n",
       "  max-height: 0;\n",
       "  max-width: 0;\n",
       "  overflow: hidden;\n",
       "  text-align: left;\n",
       "  /* unfitted */\n",
       "  background-color: var(--sklearn-color-unfitted-level-0);\n",
       "}\n",
       "\n",
       "#sk-container-id-1 div.sk-toggleable__content.fitted {\n",
       "  /* fitted */\n",
       "  background-color: var(--sklearn-color-fitted-level-0);\n",
       "}\n",
       "\n",
       "#sk-container-id-1 div.sk-toggleable__content pre {\n",
       "  margin: 0.2em;\n",
       "  border-radius: 0.25em;\n",
       "  color: var(--sklearn-color-text);\n",
       "  /* unfitted */\n",
       "  background-color: var(--sklearn-color-unfitted-level-0);\n",
       "}\n",
       "\n",
       "#sk-container-id-1 div.sk-toggleable__content.fitted pre {\n",
       "  /* unfitted */\n",
       "  background-color: var(--sklearn-color-fitted-level-0);\n",
       "}\n",
       "\n",
       "#sk-container-id-1 input.sk-toggleable__control:checked~div.sk-toggleable__content {\n",
       "  /* Expand drop-down */\n",
       "  max-height: 200px;\n",
       "  max-width: 100%;\n",
       "  overflow: auto;\n",
       "}\n",
       "\n",
       "#sk-container-id-1 input.sk-toggleable__control:checked~label.sk-toggleable__label-arrow:before {\n",
       "  content: \"▾\";\n",
       "}\n",
       "\n",
       "/* Pipeline/ColumnTransformer-specific style */\n",
       "\n",
       "#sk-container-id-1 div.sk-label input.sk-toggleable__control:checked~label.sk-toggleable__label {\n",
       "  color: var(--sklearn-color-text);\n",
       "  background-color: var(--sklearn-color-unfitted-level-2);\n",
       "}\n",
       "\n",
       "#sk-container-id-1 div.sk-label.fitted input.sk-toggleable__control:checked~label.sk-toggleable__label {\n",
       "  background-color: var(--sklearn-color-fitted-level-2);\n",
       "}\n",
       "\n",
       "/* Estimator-specific style */\n",
       "\n",
       "/* Colorize estimator box */\n",
       "#sk-container-id-1 div.sk-estimator input.sk-toggleable__control:checked~label.sk-toggleable__label {\n",
       "  /* unfitted */\n",
       "  background-color: var(--sklearn-color-unfitted-level-2);\n",
       "}\n",
       "\n",
       "#sk-container-id-1 div.sk-estimator.fitted input.sk-toggleable__control:checked~label.sk-toggleable__label {\n",
       "  /* fitted */\n",
       "  background-color: var(--sklearn-color-fitted-level-2);\n",
       "}\n",
       "\n",
       "#sk-container-id-1 div.sk-label label.sk-toggleable__label,\n",
       "#sk-container-id-1 div.sk-label label {\n",
       "  /* The background is the default theme color */\n",
       "  color: var(--sklearn-color-text-on-default-background);\n",
       "}\n",
       "\n",
       "/* On hover, darken the color of the background */\n",
       "#sk-container-id-1 div.sk-label:hover label.sk-toggleable__label {\n",
       "  color: var(--sklearn-color-text);\n",
       "  background-color: var(--sklearn-color-unfitted-level-2);\n",
       "}\n",
       "\n",
       "/* Label box, darken color on hover, fitted */\n",
       "#sk-container-id-1 div.sk-label.fitted:hover label.sk-toggleable__label.fitted {\n",
       "  color: var(--sklearn-color-text);\n",
       "  background-color: var(--sklearn-color-fitted-level-2);\n",
       "}\n",
       "\n",
       "/* Estimator label */\n",
       "\n",
       "#sk-container-id-1 div.sk-label label {\n",
       "  font-family: monospace;\n",
       "  font-weight: bold;\n",
       "  display: inline-block;\n",
       "  line-height: 1.2em;\n",
       "}\n",
       "\n",
       "#sk-container-id-1 div.sk-label-container {\n",
       "  text-align: center;\n",
       "}\n",
       "\n",
       "/* Estimator-specific */\n",
       "#sk-container-id-1 div.sk-estimator {\n",
       "  font-family: monospace;\n",
       "  border: 1px dotted var(--sklearn-color-border-box);\n",
       "  border-radius: 0.25em;\n",
       "  box-sizing: border-box;\n",
       "  margin-bottom: 0.5em;\n",
       "  /* unfitted */\n",
       "  background-color: var(--sklearn-color-unfitted-level-0);\n",
       "}\n",
       "\n",
       "#sk-container-id-1 div.sk-estimator.fitted {\n",
       "  /* fitted */\n",
       "  background-color: var(--sklearn-color-fitted-level-0);\n",
       "}\n",
       "\n",
       "/* on hover */\n",
       "#sk-container-id-1 div.sk-estimator:hover {\n",
       "  /* unfitted */\n",
       "  background-color: var(--sklearn-color-unfitted-level-2);\n",
       "}\n",
       "\n",
       "#sk-container-id-1 div.sk-estimator.fitted:hover {\n",
       "  /* fitted */\n",
       "  background-color: var(--sklearn-color-fitted-level-2);\n",
       "}\n",
       "\n",
       "/* Specification for estimator info (e.g. \"i\" and \"?\") */\n",
       "\n",
       "/* Common style for \"i\" and \"?\" */\n",
       "\n",
       ".sk-estimator-doc-link,\n",
       "a:link.sk-estimator-doc-link,\n",
       "a:visited.sk-estimator-doc-link {\n",
       "  float: right;\n",
       "  font-size: smaller;\n",
       "  line-height: 1em;\n",
       "  font-family: monospace;\n",
       "  background-color: var(--sklearn-color-background);\n",
       "  border-radius: 1em;\n",
       "  height: 1em;\n",
       "  width: 1em;\n",
       "  text-decoration: none !important;\n",
       "  margin-left: 0.5em;\n",
       "  text-align: center;\n",
       "  /* unfitted */\n",
       "  border: var(--sklearn-color-unfitted-level-1) 1pt solid;\n",
       "  color: var(--sklearn-color-unfitted-level-1);\n",
       "}\n",
       "\n",
       ".sk-estimator-doc-link.fitted,\n",
       "a:link.sk-estimator-doc-link.fitted,\n",
       "a:visited.sk-estimator-doc-link.fitted {\n",
       "  /* fitted */\n",
       "  border: var(--sklearn-color-fitted-level-1) 1pt solid;\n",
       "  color: var(--sklearn-color-fitted-level-1);\n",
       "}\n",
       "\n",
       "/* On hover */\n",
       "div.sk-estimator:hover .sk-estimator-doc-link:hover,\n",
       ".sk-estimator-doc-link:hover,\n",
       "div.sk-label-container:hover .sk-estimator-doc-link:hover,\n",
       ".sk-estimator-doc-link:hover {\n",
       "  /* unfitted */\n",
       "  background-color: var(--sklearn-color-unfitted-level-3);\n",
       "  color: var(--sklearn-color-background);\n",
       "  text-decoration: none;\n",
       "}\n",
       "\n",
       "div.sk-estimator.fitted:hover .sk-estimator-doc-link.fitted:hover,\n",
       ".sk-estimator-doc-link.fitted:hover,\n",
       "div.sk-label-container:hover .sk-estimator-doc-link.fitted:hover,\n",
       ".sk-estimator-doc-link.fitted:hover {\n",
       "  /* fitted */\n",
       "  background-color: var(--sklearn-color-fitted-level-3);\n",
       "  color: var(--sklearn-color-background);\n",
       "  text-decoration: none;\n",
       "}\n",
       "\n",
       "/* Span, style for the box shown on hovering the info icon */\n",
       ".sk-estimator-doc-link span {\n",
       "  display: none;\n",
       "  z-index: 9999;\n",
       "  position: relative;\n",
       "  font-weight: normal;\n",
       "  right: .2ex;\n",
       "  padding: .5ex;\n",
       "  margin: .5ex;\n",
       "  width: min-content;\n",
       "  min-width: 20ex;\n",
       "  max-width: 50ex;\n",
       "  color: var(--sklearn-color-text);\n",
       "  box-shadow: 2pt 2pt 4pt #999;\n",
       "  /* unfitted */\n",
       "  background: var(--sklearn-color-unfitted-level-0);\n",
       "  border: .5pt solid var(--sklearn-color-unfitted-level-3);\n",
       "}\n",
       "\n",
       ".sk-estimator-doc-link.fitted span {\n",
       "  /* fitted */\n",
       "  background: var(--sklearn-color-fitted-level-0);\n",
       "  border: var(--sklearn-color-fitted-level-3);\n",
       "}\n",
       "\n",
       ".sk-estimator-doc-link:hover span {\n",
       "  display: block;\n",
       "}\n",
       "\n",
       "/* \"?\"-specific style due to the `<a>` HTML tag */\n",
       "\n",
       "#sk-container-id-1 a.estimator_doc_link {\n",
       "  float: right;\n",
       "  font-size: 1rem;\n",
       "  line-height: 1em;\n",
       "  font-family: monospace;\n",
       "  background-color: var(--sklearn-color-background);\n",
       "  border-radius: 1rem;\n",
       "  height: 1rem;\n",
       "  width: 1rem;\n",
       "  text-decoration: none;\n",
       "  /* unfitted */\n",
       "  color: var(--sklearn-color-unfitted-level-1);\n",
       "  border: var(--sklearn-color-unfitted-level-1) 1pt solid;\n",
       "}\n",
       "\n",
       "#sk-container-id-1 a.estimator_doc_link.fitted {\n",
       "  /* fitted */\n",
       "  border: var(--sklearn-color-fitted-level-1) 1pt solid;\n",
       "  color: var(--sklearn-color-fitted-level-1);\n",
       "}\n",
       "\n",
       "/* On hover */\n",
       "#sk-container-id-1 a.estimator_doc_link:hover {\n",
       "  /* unfitted */\n",
       "  background-color: var(--sklearn-color-unfitted-level-3);\n",
       "  color: var(--sklearn-color-background);\n",
       "  text-decoration: none;\n",
       "}\n",
       "\n",
       "#sk-container-id-1 a.estimator_doc_link.fitted:hover {\n",
       "  /* fitted */\n",
       "  background-color: var(--sklearn-color-fitted-level-3);\n",
       "}\n",
       "</style><div id=\"sk-container-id-1\" class=\"sk-top-container\"><div class=\"sk-text-repr-fallback\"><pre>SVR()</pre><b>In a Jupyter environment, please rerun this cell to show the HTML representation or trust the notebook. <br />On GitHub, the HTML representation is unable to render, please try loading this page with nbviewer.org.</b></div><div class=\"sk-container\" hidden><div class=\"sk-item\"><div class=\"sk-estimator fitted sk-toggleable\"><input class=\"sk-toggleable__control sk-hidden--visually\" id=\"sk-estimator-id-1\" type=\"checkbox\" checked><label for=\"sk-estimator-id-1\" class=\"sk-toggleable__label fitted sk-toggleable__label-arrow\"><div><div>SVR</div></div><div><a class=\"sk-estimator-doc-link fitted\" rel=\"noreferrer\" target=\"_blank\" href=\"https://scikit-learn.org/1.6/modules/generated/sklearn.svm.SVR.html\">?<span>Documentation for SVR</span></a><span class=\"sk-estimator-doc-link fitted\">i<span>Fitted</span></span></div></label><div class=\"sk-toggleable__content fitted\"><pre>SVR()</pre></div> </div></div></div></div>"
      ]
     },
     "execution_count": 32,
     "metadata": {},
     "output_type": "execute_result"
    }
   ],
   "execution_count": 32
  },
  {
   "metadata": {
    "ExecuteTime": {
     "end_time": "2025-06-02T02:55:14.095171Z",
     "start_time": "2025-06-02T02:53:53.725570Z"
    }
   },
   "cell_type": "code",
   "source": [
    "from sklearn.metrics import mean_squared_error, mean_absolute_error, r2_score\n",
    "\n",
    "# Predict\n",
    "y_pred = svr.predict(X_test_scaled)\n",
    "\n",
    "# Weighted metrics\n",
    "mse = mean_squared_error(y_test, y_pred, sample_weight=sample_weight_test)\n",
    "mae = mean_absolute_error(y_test, y_pred, sample_weight=sample_weight_test)\n",
    "r2 = r2_score(y_test, y_pred, sample_weight=sample_weight_test)\n",
    "\n",
    "print(f\"Weighted MSE: {mse:.4f}, MAE: {mae:.4f}, R²: {r2:.4f}\")\n"
   ],
   "id": "32ab4e920fdeaef5",
   "outputs": [
    {
     "name": "stdout",
     "output_type": "stream",
     "text": [
      "Weighted MSE: 1494.2661, MAE: 27.0988, R²: 0.6217\n"
     ]
    }
   ],
   "execution_count": 33
  },
  {
   "metadata": {
    "ExecuteTime": {
     "end_time": "2025-06-02T02:56:43.001911Z",
     "start_time": "2025-06-02T02:56:42.988578Z"
    }
   },
   "cell_type": "code",
   "source": [
    "rmse = root_mean_squared_error(y_test, y_pred, sample_weight=sample_weight_test)\n",
    "print(f'Root Mean Squared Error: {rmse}')"
   ],
   "id": "71077f709624b472",
   "outputs": [
    {
     "name": "stdout",
     "output_type": "stream",
     "text": [
      "Root Mean Squared Error: 38.65573827331163\n"
     ]
    }
   ],
   "execution_count": 35
  },
  {
   "metadata": {
    "ExecuteTime": {
     "end_time": "2025-06-02T02:58:10.063684Z",
     "start_time": "2025-06-02T02:58:08.941902Z"
    }
   },
   "cell_type": "code",
   "source": [
    "import pandas as pd\n",
    "import numpy as np\n",
    "import matplotlib.pyplot as plt\n",
    "import seaborn as sns\n",
    "from sklearn.metrics import classification_report, confusion_matrix\n",
    "\n",
    "# 1. Classification function\n",
    "def classify_glucose(value):\n",
    "    if value < 70:\n",
    "        return 'hypo'\n",
    "    elif value > 180:\n",
    "        return 'hyper'\n",
    "    else:\n",
    "        return 'normal'\n",
    "\n",
    "# 2. Apply classification\n",
    "y_pred_classified = [classify_glucose(value) for value in y_pred]\n",
    "y_test_classified = [classify_glucose(value) for value in y_test]\n",
    "\n",
    "# 3. Create comparison DataFrame\n",
    "comparison_df = pd.DataFrame({\n",
    "    'Actual': y_test_classified,\n",
    "    'Predicted': y_pred_classified\n",
    "})\n",
    "\n",
    "# 4. Print classification report\n",
    "print(classification_report(comparison_df['Actual'], comparison_df['Predicted'], digits=3))\n",
    "\n",
    "# 5. Confusion Matrix and Plot\n",
    "labels = ['hypo', 'normal', 'hyper']\n",
    "conf_matrix = confusion_matrix(comparison_df['Actual'], comparison_df['Predicted'], labels=labels)\n",
    "\n",
    "plt.figure(figsize=(8, 6))\n",
    "sns.heatmap(conf_matrix, annot=True, fmt='d', cmap='Blues', xticklabels=labels, yticklabels=labels)\n",
    "plt.title('Confusion Matrix')\n",
    "plt.xlabel('Predicted')\n",
    "plt.ylabel('Actual')\n",
    "plt.xticks(rotation=45)\n",
    "plt.show()\n",
    "\n",
    "# 6. Sensitivity and Specificity Calculation\n",
    "print(\"Sensitivity and Specificity per class:\")\n",
    "for i, label in enumerate(labels):\n",
    "    TP = conf_matrix[i, i]\n",
    "    FN = np.sum(conf_matrix[i, :]) - TP\n",
    "    FP = np.sum(conf_matrix[:, i]) - TP\n",
    "    TN = np.sum(conf_matrix) - (TP + FN + FP)\n",
    "\n",
    "    sensitivity = TP / (TP + FN) if (TP + FN) != 0 else 0\n",
    "    specificity = TN / (TN + FP) if (TN + FP) != 0 else 0\n",
    "\n",
    "    print(f\"{label.capitalize()} — Sensitivity: {sensitivity:.3f}, Specificity: {specificity:.3f}\")\n"
   ],
   "id": "d73a17e512d1bfe5",
   "outputs": [
    {
     "name": "stdout",
     "output_type": "stream",
     "text": [
      "              precision    recall  f1-score   support\n",
      "\n",
      "       hyper      0.535     0.611     0.570      2570\n",
      "        hypo      0.162     0.433     0.236       252\n",
      "      normal      0.925     0.879     0.902     15768\n",
      "\n",
      "    accuracy                          0.836     18590\n",
      "   macro avg      0.541     0.641     0.569     18590\n",
      "weighted avg      0.861     0.836     0.847     18590\n",
      "\n"
     ]
    },
    {
     "data": {
      "text/plain": [
       "<Figure size 800x600 with 2 Axes>"
      ],
      "image/png": "[encoded data removed]"
     },
     "metadata": {},
     "output_type": "display_data"
    },
    {
     "name": "stdout",
     "output_type": "stream",
     "text": [
      "Sensitivity and Specificity per class:\n",
      "Hypo — Sensitivity: 0.433, Specificity: 0.969\n",
      "Normal — Sensitivity: 0.879, Specificity: 0.603\n",
      "Hyper — Sensitivity: 0.611, Specificity: 0.915\n"
     ]
    }
   ],
   "execution_count": 36
  },
  {
   "metadata": {
    "ExecuteTime": {
     "end_time": "2025-06-02T02:59:18.926182Z",
     "start_time": "2025-06-02T02:59:18.720097Z"
    }
   },
   "cell_type": "code",
   "source": [
    "sensitivity = confusion[1, 1] / (confusion[1, 0] + confusion[1, 1])\n",
    "specificity = confusion[0, 0] / (confusion[0, 1] + confusion[0, 0])\n",
    "print(f'Sensitivity: {sensitivity}')\n",
    "print(f'Specificity: {specificity}')"
   ],
   "id": "2ab599a87526053",
   "outputs": [
    {
     "ename": "NameError",
     "evalue": "name 'confusion' is not defined",
     "output_type": "error",
     "traceback": [
      "\u001B[31m---------------------------------------------------------------------------\u001B[39m",
      "\u001B[31mNameError\u001B[39m                                 Traceback (most recent call last)",
      "\u001B[36mCell\u001B[39m\u001B[36m \u001B[39m\u001B[32mIn[37]\u001B[39m\u001B[32m, line 1\u001B[39m\n\u001B[32m----> \u001B[39m\u001B[32m1\u001B[39m sensitivity = \u001B[43mconfusion\u001B[49m[\u001B[32m1\u001B[39m, \u001B[32m1\u001B[39m] / (confusion[\u001B[32m1\u001B[39m, \u001B[32m0\u001B[39m] + confusion[\u001B[32m1\u001B[39m, \u001B[32m1\u001B[39m])\n\u001B[32m      2\u001B[39m specificity = confusion[\u001B[32m0\u001B[39m, \u001B[32m0\u001B[39m] / (confusion[\u001B[32m0\u001B[39m, \u001B[32m1\u001B[39m] + confusion[\u001B[32m0\u001B[39m, \u001B[32m0\u001B[39m])\n\u001B[32m      3\u001B[39m \u001B[38;5;28mprint\u001B[39m(\u001B[33mf\u001B[39m\u001B[33m'\u001B[39m\u001B[33mSensitivity: \u001B[39m\u001B[38;5;132;01m{\u001B[39;00msensitivity\u001B[38;5;132;01m}\u001B[39;00m\u001B[33m'\u001B[39m)\n",
      "\u001B[31mNameError\u001B[39m: name 'confusion' is not defined"
     ]
    }
   ],
   "execution_count": 37
  },
  {
   "metadata": {},
   "cell_type": "code",
   "source": "## for next time, get patient ids all the ones timestamped before hypo/hyper diagnosis, i.e. create a story of how the measurements changed and use this as an input for a classifier to the final diagnosis, either hypo or hyper or normal. don't need the actual timestamps as input, just the order of the measurements.",
   "id": "1c129842c2430cea",
   "outputs": [],
   "execution_count": null
  }
 ],
 "metadata": {
  "kernelspec": {
   "display_name": "Python 3",
   "language": "python",
   "name": "python3"
  },
  "language_info": {
   "codemirror_mode": {
    "name": "ipython",
    "version": 2
   },
   "file_extension": ".py",
   "mimetype": "text/x-python",
   "name": "python",
   "nbconvert_exporter": "python",
   "pygments_lexer": "ipython2",
   "version": "2.7.6"
  }
 },
 "nbformat": 4,
 "nbformat_minor": 5
}
